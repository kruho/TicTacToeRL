{
 "cells": [
  {
   "cell_type": "code",
   "execution_count": 1,
   "metadata": {},
   "outputs": [],
   "source": [
    "import matplotlib.pyplot as plt\n",
    "%matplotlib inline\n",
    "import numpy as np"
   ]
  },
  {
   "cell_type": "code",
   "execution_count": 2,
   "metadata": {},
   "outputs": [],
   "source": [
    "nb_mesh = 5\n",
    "nb_line = 3"
   ]
  },
  {
   "cell_type": "code",
   "execution_count": 3,
   "metadata": {},
   "outputs": [],
   "source": [
    "def show_state(state):\n",
    "    plt.subplot(1,3,1)\n",
    "    plt.imshow(state[:,:,0], 'Reds')\n",
    "    plt.title('o')\n",
    "    plt.clim(0,1)\n",
    "\n",
    "    ax = plt.gca()\n",
    "    ax.set_xticks(np.arange(0, nb_mesh, 1))\n",
    "    ax.set_yticks(np.arange(0, nb_mesh, 1))\n",
    "    ax.set_xticks(np.arange(-.5, nb_mesh+0.5, 1), minor=True)\n",
    "    ax.set_yticks(np.arange(-.5, nb_mesh+0.5, 1), minor=True)\n",
    "    ax.grid(which='minor', color='w', linestyle='-', linewidth=2)\n",
    "\n",
    "    plt.subplot(1,3,2)\n",
    "    plt.imshow(state[:,:,1], 'Blues')\n",
    "    plt.title('x')\n",
    "    plt.clim(0,1)\n",
    "\n",
    "    ax = plt.gca()\n",
    "    ax.set_xticks(np.arange(0, nb_mesh, 1))\n",
    "    ax.set_yticks(np.arange(0, nb_mesh, 1))\n",
    "    ax.set_xticks(np.arange(-.5, nb_mesh+0.5, 1), minor=True)\n",
    "    ax.set_yticks(np.arange(-.5, nb_mesh+0.5, 1), minor=True)\n",
    "    ax.grid(which='minor', color='w', linestyle='-', linewidth=2)\n",
    "    \n",
    "    plt.subplot(1,3,3)\n",
    "    plt.imshow(state[:,:,2], 'RdBu')\n",
    "    plt.title('move')\n",
    "    plt.clim(0,1)\n",
    "\n",
    "    ax = plt.gca()\n",
    "    ax.set_xticks(np.arange(0, nb_mesh, 1))\n",
    "    ax.set_yticks(np.arange(0, nb_mesh, 1))\n",
    "    ax.set_xticks(np.arange(-.5, nb_mesh+0.5, 1), minor=True)\n",
    "    ax.set_yticks(np.arange(-.5, nb_mesh+0.5, 1), minor=True)\n",
    "    ax.grid(which='minor', color='w', linestyle='-', linewidth=2)"
   ]
  },
  {
   "cell_type": "code",
   "execution_count": 4,
   "metadata": {},
   "outputs": [
    {
     "name": "stderr",
     "output_type": "stream",
     "text": [
      "/Users/ruhokondo/Programming/anaconda3/envs/dl35/lib/python3.5/site-packages/h5py/__init__.py:36: FutureWarning: Conversion of the second argument of issubdtype from `float` to `np.floating` is deprecated. In future, it will be treated as `np.float64 == np.dtype(float).type`.\n",
      "  from ._conv import register_converters as _register_converters\n",
      "Using TensorFlow backend.\n",
      "/Users/ruhokondo/Programming/anaconda3/envs/dl35/lib/python3.5/importlib/_bootstrap.py:222: RuntimeWarning: compiletime version 3.6 of module 'tensorflow.python.framework.fast_tensor_util' does not match runtime version 3.5\n",
      "  return f(*args, **kwds)\n"
     ]
    },
    {
     "name": "stdout",
     "output_type": "stream",
     "text": [
      "_________________________________________________________________\n",
      "Layer (type)                 Output Shape              Param #   \n",
      "=================================================================\n",
      "input_1 (InputLayer)         (None, 5, 5, 3)           0         \n",
      "_________________________________________________________________\n",
      "conv2d_1 (Conv2D)            (None, 5, 5, 16)          448       \n",
      "_________________________________________________________________\n",
      "batch_normalization_1 (Batch (None, 5, 5, 16)          64        \n",
      "_________________________________________________________________\n",
      "activation_1 (Activation)    (None, 5, 5, 16)          0         \n",
      "_________________________________________________________________\n",
      "conv2d_2 (Conv2D)            (None, 5, 5, 16)          2320      \n",
      "_________________________________________________________________\n",
      "batch_normalization_2 (Batch (None, 5, 5, 16)          64        \n",
      "_________________________________________________________________\n",
      "activation_2 (Activation)    (None, 5, 5, 16)          0         \n",
      "_________________________________________________________________\n",
      "conv2d_3 (Conv2D)            (None, 5, 5, 16)          2320      \n",
      "_________________________________________________________________\n",
      "batch_normalization_3 (Batch (None, 5, 5, 16)          64        \n",
      "_________________________________________________________________\n",
      "activation_3 (Activation)    (None, 5, 5, 16)          0         \n",
      "_________________________________________________________________\n",
      "flatten_1 (Flatten)          (None, 400)               0         \n",
      "_________________________________________________________________\n",
      "dense_1 (Dense)              (None, 1)                 401       \n",
      "=================================================================\n",
      "Total params: 5,681\n",
      "Trainable params: 5,585\n",
      "Non-trainable params: 96\n",
      "_________________________________________________________________\n"
     ]
    }
   ],
   "source": [
    "from keras.layers import Input, Conv2D, Activation, BatchNormalization, Flatten, Dense\n",
    "from keras.models import Model\n",
    "from keras.optimizers import Adam\n",
    "\n",
    "state = h = Input((nb_mesh,nb_mesh,3))\n",
    "\n",
    "h = Conv2D(16, (3,3), padding='same')(h)\n",
    "h = BatchNormalization()(h)\n",
    "h = Activation('relu')(h)\n",
    "\n",
    "h = Conv2D(16, (3,3), padding='same')(h)\n",
    "h = BatchNormalization()(h)\n",
    "h = Activation('relu')(h)\n",
    "\n",
    "h = Conv2D(16, (3,3), padding='same')(h)\n",
    "h = BatchNormalization()(h)\n",
    "h = Activation('relu')(h)\n",
    "\n",
    "h = Flatten()(h)\n",
    "value = Dense(1, activation='tanh')(h)\n",
    "\n",
    "value_function = Model(state, value)\n",
    "optimizer = Adam(lr=1e-4)\n",
    "value_function.compile(loss='mse', optimizer=optimizer)\n",
    "value_function.summary()"
   ]
  },
  {
   "cell_type": "code",
   "execution_count": 5,
   "metadata": {},
   "outputs": [],
   "source": [
    "def get_permitted_actions(state):\n",
    "    '''\n",
    "    ○および×が置かれていない座標インデックスを返す。\n",
    "    '''\n",
    "    return np.where(state[:,:,0]+state[:,:,1]==0)"
   ]
  },
  {
   "cell_type": "code",
   "execution_count": 6,
   "metadata": {},
   "outputs": [],
   "source": [
    "import copy\n",
    "\n",
    "def transition(current_state, action):\n",
    "    '''\n",
    "    action は ○ もしくは × を置く state のインデックス。\n",
    "    2チャンネル目が手番を表しているので、遷移後は手番を入れ替える。\n",
    "    '''\n",
    "    next_state = copy.deepcopy(current_state)\n",
    "    if current_state[:,:,-1][0,0]==0: # ○の手番の場合\n",
    "        next_state[action+(0,)] = 1\n",
    "        next_state[:,:,-1] = np.ones((nb_mesh,nb_mesh))\n",
    "    else: # ×の手番の場合\n",
    "        next_state[action+(1,)] = 1\n",
    "        next_state[:,:,-1] = np.zeros((nb_mesh,nb_mesh))\n",
    "    return next_state"
   ]
  },
  {
   "cell_type": "code",
   "execution_count": 7,
   "metadata": {},
   "outputs": [],
   "source": [
    "def get_best_action(current_state, value_function):\n",
    "    '''\n",
    "    行動空間が狭いので全探索する。\n",
    "    '''\n",
    "    a0,a1 = get_permitted_actions(current_state)\n",
    "    my_value = -1e100\n",
    "    \n",
    "    \n",
    "    # 自分の取り得る全ての行動を探索する\n",
    "    try:\n",
    "        for action in zip(a0,a1):\n",
    "            \n",
    "            # 行動を取って1つ状態を進める。相手の手番になる。\n",
    "            next_state = transition(current_state, action)\n",
    "\n",
    "            # 次の自分の一手で勝敗が決していなかった場合のみ、相手の手筋を読む（全探索）。\n",
    "            if judge_game(next_state) is None:\n",
    "\n",
    "                # 相手の取り得る全ての行動を調べ、最も取りそうな行動を調べる。\n",
    "                b0,b1 = get_permitted_actions(next_state)\n",
    "                enemy_value = -1e100\n",
    "                for next_action in zip(b0,b1):\n",
    "                    next_next_state = transition(next_state, next_action)\n",
    "\n",
    "                    if judge_game(next_next_state) is not None:\n",
    "                        value = 1.\n",
    "                    else:\n",
    "                        value = value_function.predict(np.expand_dims(next_next_state,0)).squeeze() # バッチの次元を拡張して入力する。\n",
    "\n",
    "                    if value>enemy_value:\n",
    "                        # こちらが行動actionを取ることによって相手が取るであろう行動と、その行動を取った場合の相手の盤面価値\n",
    "                        enemy_action = next_action\n",
    "                        enemy_value = value\n",
    "                        \n",
    "                # 相手が獲得し得る最大の盤面価値をv∈[-1,1]としたとき、自分の盤面価値を-v∈[-1,1]と想定する\n",
    "                if -enemy_value>my_value:\n",
    "                    best_action = action\n",
    "                    my_value = -enemy_value\n",
    "                        \n",
    "            # 次の自分の一手で自分が勝ってしまったら探索をやめる。\n",
    "            else:\n",
    "                my_value = 1.\n",
    "                best_action = action\n",
    "                raise Exception\n",
    "            \n",
    "    except Exception as e:\n",
    "#        print('=== エラー内容 ===')\n",
    "#        print('type:' + str(type(e)))\n",
    "#        print('args:' + str(e.args))\n",
    "#        print('message:' + e.message)\n",
    "#        print('e自身:' + str(e))\n",
    "        pass\n",
    "        \n",
    "    return my_value, best_action"
   ]
  },
  {
   "cell_type": "code",
   "execution_count": 8,
   "metadata": {},
   "outputs": [],
   "source": [
    "def judge_game(state):\n",
    "    winner = None\n",
    "    checked = np.zeros(state.shape[:2])\n",
    "    \n",
    "    try:\n",
    "        for i in range(state.shape[0]):\n",
    "            for j in range(state.shape[1]):\n",
    "                s = state[i,j,:2].argmax(-1)\n",
    "\n",
    "                # 右側をチェック\n",
    "                count = 0\n",
    "                for jj in range(j,min(j+nb_line,state.shape[1])):\n",
    "                    if state[i,jj,s]==1:\n",
    "                        count += 1\n",
    "                    if count==nb_line:\n",
    "                        winner = s\n",
    "                        raise Exception\n",
    "                    \n",
    "                # 下側をチェック\n",
    "                count = 0\n",
    "                for ii in range(i,min(i+nb_line,state.shape[0])):\n",
    "                    if state[ii,j,s]==1:\n",
    "                        count += 1\n",
    "                    if count==nb_line:\n",
    "                        winner = s\n",
    "                        raise Exception\n",
    "                        \n",
    "                # 右下をチェック\n",
    "                count = 0\n",
    "                for ii,jj in zip(range(i,min(i+nb_line,state.shape[0])),range(j,min(j+nb_line,state.shape[1]))):\n",
    "                    if state[ii,jj,s]==1:\n",
    "                        count += 1\n",
    "                    if count==nb_line:\n",
    "                        winner = s\n",
    "                        raise Exception\n",
    "                        \n",
    "                # 左下をチェック\n",
    "                count = 0\n",
    "                for ii,jj in zip(range(i,max(i-nb_line,0)-1,-1),range(j,min(j+nb_line,state.shape[1]))):\n",
    "                    if state[ii,jj,s]==1:\n",
    "                        count += 1\n",
    "                    if count==nb_line:\n",
    "                        winner = s\n",
    "                        raise Exception\n",
    "                        \n",
    "    except Exception as e:\n",
    "#        print('=== エラー内容 ===')\n",
    "#        print('type:' + str(type(e)))\n",
    "#        print('args:' + str(e.args))\n",
    "#        print('message:' + e.message)\n",
    "#        print('e自身:' + str(e))\n",
    "        pass\n",
    "    \n",
    "    return winner"
   ]
  },
  {
   "cell_type": "code",
   "execution_count": 9,
   "metadata": {},
   "outputs": [],
   "source": [
    "discount = 0.99\n",
    "#discount = 1.\n",
    "epsilon = 0.3"
   ]
  },
  {
   "cell_type": "code",
   "execution_count": 16,
   "metadata": {},
   "outputs": [],
   "source": [
    "def show_state_2(state):\n",
    "    board = np.zeros((nb_mesh,nb_mesh))\n",
    "    board += state[:,:,0]\n",
    "    board -= state[:,:,1]\n",
    "    plt.imshow(board, 'RdBu_r')\n",
    "    plt.title(value_function.predict(np.expand_dims(state,0)).squeeze())\n",
    "    plt.clim(-1,1)\n",
    "\n",
    "    ax = plt.gca()\n",
    "    ax.set_xticks(np.arange(0, nb_mesh, 1))\n",
    "    ax.set_yticks(np.arange(0, nb_mesh, 1))\n",
    "    ax.set_xticks(np.arange(-.5, nb_mesh+.5, 1), minor=True)\n",
    "    ax.set_yticks(np.arange(-.5, nb_mesh+.5, 1), minor=True)\n",
    "    ax.grid(which='minor', color='w', linestyle='-', linewidth=2)"
   ]
  },
  {
   "cell_type": "code",
   "execution_count": 22,
   "metadata": {
    "scrolled": true
   },
   "outputs": [
    {
     "name": "stderr",
     "output_type": "stream",
     "text": [
      " 17%|█▋        | 17/100 [00:59<04:52,  3.53s/it]"
     ]
    },
    {
     "ename": "KeyboardInterrupt",
     "evalue": "",
     "output_type": "error",
     "traceback": [
      "\u001b[0;31m---------------------------------------------------------------------------\u001b[0m",
      "\u001b[0;31mKeyboardInterrupt\u001b[0m                         Traceback (most recent call last)",
      "\u001b[0;32m<ipython-input-22-d88ff42bd9b2>\u001b[0m in \u001b[0;36m<module>\u001b[0;34m()\u001b[0m\n\u001b[1;32m     21\u001b[0m \u001b[0;34m\u001b[0m\u001b[0m\n\u001b[1;32m     22\u001b[0m             \u001b[0;31m# 状態価値が最も高くなる行動と、その行動を取った時の遷移後の状態価値を計算する。\u001b[0m\u001b[0;34m\u001b[0m\u001b[0;34m\u001b[0m\u001b[0m\n\u001b[0;32m---> 23\u001b[0;31m             \u001b[0mmax_value\u001b[0m\u001b[0;34m,\u001b[0m \u001b[0mbest_action\u001b[0m \u001b[0;34m=\u001b[0m \u001b[0mget_best_action\u001b[0m\u001b[0;34m(\u001b[0m\u001b[0mcurrent_state\u001b[0m\u001b[0;34m,\u001b[0m \u001b[0mvalue_function\u001b[0m\u001b[0;34m)\u001b[0m\u001b[0;34m\u001b[0m\u001b[0m\n\u001b[0m\u001b[1;32m     24\u001b[0m \u001b[0;34m\u001b[0m\u001b[0m\n\u001b[1;32m     25\u001b[0m             \u001b[0;31m# 状態価値が最も高くなる行動を選択する。ただし、確率εでランダムな行動を取る。\u001b[0m\u001b[0;34m\u001b[0m\u001b[0;34m\u001b[0m\u001b[0m\n",
      "\u001b[0;32m<ipython-input-7-9ace1e1bba73>\u001b[0m in \u001b[0;36mget_best_action\u001b[0;34m(current_state, value_function)\u001b[0m\n\u001b[1;32m     22\u001b[0m                     \u001b[0mnext_next_state\u001b[0m \u001b[0;34m=\u001b[0m \u001b[0mtransition\u001b[0m\u001b[0;34m(\u001b[0m\u001b[0mnext_state\u001b[0m\u001b[0;34m,\u001b[0m \u001b[0mnext_action\u001b[0m\u001b[0;34m)\u001b[0m\u001b[0;34m\u001b[0m\u001b[0m\n\u001b[1;32m     23\u001b[0m \u001b[0;34m\u001b[0m\u001b[0m\n\u001b[0;32m---> 24\u001b[0;31m                     \u001b[0;32mif\u001b[0m \u001b[0mjudge_game\u001b[0m\u001b[0;34m(\u001b[0m\u001b[0mnext_next_state\u001b[0m\u001b[0;34m)\u001b[0m \u001b[0;32mis\u001b[0m \u001b[0;32mnot\u001b[0m \u001b[0;32mNone\u001b[0m\u001b[0;34m:\u001b[0m\u001b[0;34m\u001b[0m\u001b[0m\n\u001b[0m\u001b[1;32m     25\u001b[0m                         \u001b[0mvalue\u001b[0m \u001b[0;34m=\u001b[0m \u001b[0;36m1.\u001b[0m\u001b[0;34m\u001b[0m\u001b[0m\n\u001b[1;32m     26\u001b[0m                     \u001b[0;32melse\u001b[0m\u001b[0;34m:\u001b[0m\u001b[0;34m\u001b[0m\u001b[0m\n",
      "\u001b[0;32m<ipython-input-8-63cc179917e0>\u001b[0m in \u001b[0;36mjudge_game\u001b[0;34m(state)\u001b[0m\n\u001b[1;32m     37\u001b[0m                 \u001b[0;31m# 左下をチェック\u001b[0m\u001b[0;34m\u001b[0m\u001b[0;34m\u001b[0m\u001b[0m\n\u001b[1;32m     38\u001b[0m                 \u001b[0mcount\u001b[0m \u001b[0;34m=\u001b[0m \u001b[0;36m0\u001b[0m\u001b[0;34m\u001b[0m\u001b[0m\n\u001b[0;32m---> 39\u001b[0;31m                 \u001b[0;32mfor\u001b[0m \u001b[0mii\u001b[0m\u001b[0;34m,\u001b[0m\u001b[0mjj\u001b[0m \u001b[0;32min\u001b[0m \u001b[0mzip\u001b[0m\u001b[0;34m(\u001b[0m\u001b[0mrange\u001b[0m\u001b[0;34m(\u001b[0m\u001b[0mi\u001b[0m\u001b[0;34m,\u001b[0m\u001b[0mmax\u001b[0m\u001b[0;34m(\u001b[0m\u001b[0mi\u001b[0m\u001b[0;34m-\u001b[0m\u001b[0mnb_line\u001b[0m\u001b[0;34m,\u001b[0m\u001b[0;36m0\u001b[0m\u001b[0;34m)\u001b[0m\u001b[0;34m-\u001b[0m\u001b[0;36m1\u001b[0m\u001b[0;34m,\u001b[0m\u001b[0;34m-\u001b[0m\u001b[0;36m1\u001b[0m\u001b[0;34m)\u001b[0m\u001b[0;34m,\u001b[0m\u001b[0mrange\u001b[0m\u001b[0;34m(\u001b[0m\u001b[0mj\u001b[0m\u001b[0;34m,\u001b[0m\u001b[0mmin\u001b[0m\u001b[0;34m(\u001b[0m\u001b[0mj\u001b[0m\u001b[0;34m+\u001b[0m\u001b[0mnb_line\u001b[0m\u001b[0;34m,\u001b[0m\u001b[0mstate\u001b[0m\u001b[0;34m.\u001b[0m\u001b[0mshape\u001b[0m\u001b[0;34m[\u001b[0m\u001b[0;36m1\u001b[0m\u001b[0;34m]\u001b[0m\u001b[0;34m)\u001b[0m\u001b[0;34m)\u001b[0m\u001b[0;34m)\u001b[0m\u001b[0;34m:\u001b[0m\u001b[0;34m\u001b[0m\u001b[0m\n\u001b[0m\u001b[1;32m     40\u001b[0m                     \u001b[0;32mif\u001b[0m \u001b[0mstate\u001b[0m\u001b[0;34m[\u001b[0m\u001b[0mii\u001b[0m\u001b[0;34m,\u001b[0m\u001b[0mjj\u001b[0m\u001b[0;34m,\u001b[0m\u001b[0ms\u001b[0m\u001b[0;34m]\u001b[0m\u001b[0;34m==\u001b[0m\u001b[0;36m1\u001b[0m\u001b[0;34m:\u001b[0m\u001b[0;34m\u001b[0m\u001b[0m\n\u001b[1;32m     41\u001b[0m                         \u001b[0mcount\u001b[0m \u001b[0;34m+=\u001b[0m \u001b[0;36m1\u001b[0m\u001b[0;34m\u001b[0m\u001b[0m\n",
      "\u001b[0;31mKeyboardInterrupt\u001b[0m: "
     ]
    }
   ],
   "source": [
    "#from tqdm import tqdm_notebook as tqdm\n",
    "from tqdm import tqdm\n",
    "\n",
    "for nb_episode in tqdm(range(100)):\n",
    "    \n",
    "    # 状態の初期化\n",
    "    current_state = np.zeros((nb_mesh,nb_mesh,3))\n",
    "    current_state[:,:,-1] = np.random.randint(0,2) # ランダムに先手を決める。\n",
    "\n",
    "    winner = None\n",
    "\n",
    "    try:\n",
    "        for nb_move in range(nb_mesh*nb_mesh):\n",
    "\n",
    "            # 盤面の表示\n",
    "#            show_state_2(current_state)\n",
    "#            plt.show()\n",
    "\n",
    "            # 現在の指し手\n",
    "            current_move = current_state[0,0,-1].astype(np.int32)\n",
    "\n",
    "            # 状態価値が最も高くなる行動と、その行動を取った時の遷移後の状態価値を計算する。\n",
    "            my_value, best_action = get_best_action(current_state, value_function)\n",
    "\n",
    "            # 状態価値が最も高くなる行動を選択する。ただし、確率εでランダムな行動を取る。\n",
    "            if np.random.random(1)<epsilon:\n",
    "                acceptable_action = get_permitted_actions(current_state)\n",
    "                random_idx = np.random.randint(0,len(acceptable_action[0]))\n",
    "                action = (acceptable_action[0][random_idx], acceptable_action[1][random_idx])\n",
    "            else:\n",
    "                action = best_action\n",
    "                \n",
    "            # 遷移後状態を計算する（まだ遷移させない）。\n",
    "            next_state = transition(current_state, action)\n",
    "\n",
    "            # ゲームの終了判定\n",
    "            winner = judge_game(next_state)\n",
    "\n",
    "            # 報酬の計算\n",
    "            if winner==current_move:\n",
    "                reward = 1.\n",
    "            else:\n",
    "                reward = discount * my_value\n",
    "\n",
    "            # 状態価値の更新\n",
    "#            print(reward + discount * max_value)\n",
    "            value_function.fit(\n",
    "                x=np.expand_dims(current_state,0),\n",
    "                y=np.expand_dims(reward,0),\n",
    "                epochs=1,\n",
    "                verbose=0,\n",
    "            )\n",
    "    \n",
    "            if False:\n",
    "                if winner is not None:\n",
    "                    '''\n",
    "                    勝敗が決着した場合、一手前の盤面には負の報酬を与える。\n",
    "                    '''\n",
    "                    value_function.fit(\n",
    "                        x=np.expand_dims(past_state,0),\n",
    "                        y=np.expand_dims(past_r_sum,0),\n",
    "                        epochs=1,\n",
    "                        verbose=0,\n",
    "                    )\n",
    "\n",
    "            # 現在の盤面を1手前の盤面として記憶しておく。\n",
    "            past_state = copy.deepcopy(current_state)\n",
    "            past_r_sum = -1\n",
    "            \n",
    "            # 状態を更新する。\n",
    "            current_state = copy.deepcopy(next_state)\n",
    "\n",
    "            if winner is not None:\n",
    "                raise Exception\n",
    "\n",
    "    except Exception as e:\n",
    "#        print('Game Over')\n",
    "#        print('=== エラー内容 ===')\n",
    "#        print('type:' + str(type(e)))\n",
    "#        print('args:' + str(e.args))\n",
    "#        print('message:' + e.message)\n",
    "#        print('e自身:' + str(e))\n",
    "        pass\n",
    "\n",
    "    # 最終盤面の表示\n",
    "    if False:\n",
    "        show_state_2(current_state)\n",
    "        if winner is None:\n",
    "            plt.title('episode: '+str(nb_episode)+' draw'+'  nb_move='+str(nb_move+1))\n",
    "        else:\n",
    "            if winner==0:\n",
    "                winner_name='Red'\n",
    "            else:\n",
    "                winner_name='Blue'\n",
    "            plt.title('episode: '+str(nb_episode)+' '+winner_name+' won'+'  nb_move='+str(nb_move+1))\n",
    "        plt.show()\n",
    "        \n",
    "\n",
    "    # epsilonを減衰させる。\n",
    "    epsilon = epsilon * 0.99    "
   ]
  },
  {
   "cell_type": "code",
   "execution_count": 12,
   "metadata": {},
   "outputs": [
    {
     "name": "stdout",
     "output_type": "stream",
     "text": [
      "0.10980970238196874\n"
     ]
    }
   ],
   "source": [
    "print(epsilon)"
   ]
  },
  {
   "cell_type": "code",
   "execution_count": 24,
   "metadata": {
    "scrolled": false
   },
   "outputs": [
    {
     "data": {
      "image/png": "[encoded data removed]",
      "text/plain": [
       "<matplotlib.figure.Figure at 0x1824572f98>"
      ]
     },
     "metadata": {},
     "output_type": "display_data"
    },
    {
     "data": {
      "image/png": "[encoded data removed]",
      "text/plain": [
       "<matplotlib.figure.Figure at 0x1824aa4ba8>"
      ]
     },
     "metadata": {},
     "output_type": "display_data"
    },
    {
     "data": {
      "image/png": "[encoded data removed]",
      "text/plain": [
       "<matplotlib.figure.Figure at 0x18246e6438>"
      ]
     },
     "metadata": {},
     "output_type": "display_data"
    },
    {
     "data": {
      "image/png": "[encoded data removed]",
      "text/plain": [
       "<matplotlib.figure.Figure at 0x182428a4a8>"
      ]
     },
     "metadata": {},
     "output_type": "display_data"
    },
    {
     "data": {
      "image/png": "[encoded data removed]",
      "text/plain": [
       "<matplotlib.figure.Figure at 0x1824971ba8>"
      ]
     },
     "metadata": {},
     "output_type": "display_data"
    },
    {
     "data": {
      "image/png": "[encoded data removed]",
      "text/plain": [
       "<matplotlib.figure.Figure at 0x1823ac1780>"
      ]
     },
     "metadata": {},
     "output_type": "display_data"
    },
    {
     "data": {
      "image/png": "[encoded data removed]",
      "text/plain": [
       "<matplotlib.figure.Figure at 0x1824ae4b00>"
      ]
     },
     "metadata": {},
     "output_type": "display_data"
    },
    {
     "data": {
      "image/png": "[encoded data removed]",
      "text/plain": [
       "<matplotlib.figure.Figure at 0x18210b3198>"
      ]
     },
     "metadata": {},
     "output_type": "display_data"
    },
    {
     "data": {
      "image/png": "[encoded data removed]",
      "text/plain": [
       "<matplotlib.figure.Figure at 0x1824366978>"
      ]
     },
     "metadata": {},
     "output_type": "display_data"
    },
    {
     "data": {
      "image/png": "[encoded data removed]",
      "text/plain": [
       "<matplotlib.figure.Figure at 0x18242899e8>"
      ]
     },
     "metadata": {},
     "output_type": "display_data"
    },
    {
     "data": {
      "image/png": "[encoded data removed]",
      "text/plain": [
       "<matplotlib.figure.Figure at 0x182112f5c0>"
      ]
     },
     "metadata": {},
     "output_type": "display_data"
    },
    {
     "name": "stdout",
     "output_type": "stream",
     "text": [
      "winner is 0  nb_move=10\n"
     ]
    }
   ],
   "source": [
    "# 状態の初期化\n",
    "current_state = np.zeros((nb_mesh,nb_mesh,3))\n",
    "current_state[:,:,-1] = np.random.randint(0,2) # ランダムに先手を決める。\n",
    "\n",
    "winner = None\n",
    "\n",
    "try:\n",
    "    for nb_move in range(nb_mesh*nb_mesh):\n",
    "\n",
    "        # 盤面の表示\n",
    "        show_state_2(current_state)\n",
    "        plt.title(value_function.predict(np.expand_dims(current_state,0)).squeeze())\n",
    "        plt.show()\n",
    "\n",
    "        # 現在の指し手\n",
    "        current_move = current_state[0,0,-1].astype(np.int32)\n",
    "\n",
    "        # 状態価値が最も高くなる行動と、その行動を取った時の遷移後の状態価値を計算する。\n",
    "        max_value, best_action = get_best_action(current_state, value_function)\n",
    "\n",
    "        # 状態価値が最も高くなる行動を選択する。ただし、確率εでランダムな行動を取る。\n",
    "        if np.random.random(1)<epsilon:\n",
    "            acceptable_action = get_permitted_actions(current_state)\n",
    "            random_idx = np.random.randint(0,len(acceptable_action[0]))\n",
    "            action = (acceptable_action[0][random_idx], acceptable_action[1][random_idx])\n",
    "        else:\n",
    "            action = best_action\n",
    "\n",
    "        # 遷移後状態を計算する（まだ遷移させない）。\n",
    "        next_state = transition(current_state, action)\n",
    "\n",
    "        # ゲームの終了判定\n",
    "        winner = judge_game(next_state)\n",
    "\n",
    "        # 状態を更新する。\n",
    "        current_state = copy.deepcopy(next_state)\n",
    "\n",
    "        if winner is not None:\n",
    "            raise Exception\n",
    "\n",
    "except Exception:\n",
    "    pass\n",
    "\n",
    "# 最終盤面の表示\n",
    "show_state_2(current_state)\n",
    "plt.show()\n",
    "\n",
    "\n",
    "if winner is None:\n",
    "    print('draw'+'  nb_move='+str(nb_move+1))\n",
    "else:\n",
    "    print('winner is '+str(winner)+'  nb_move='+str(nb_move+1))"
   ]
  },
  {
   "cell_type": "code",
   "execution_count": null,
   "metadata": {},
   "outputs": [],
   "source": []
  }
 ],
 "metadata": {
  "kernelspec": {
   "display_name": "Python [conda env:dl35]",
   "language": "python",
   "name": "conda-env-dl35-py"
  },
  "language_info": {
   "codemirror_mode": {
    "name": "ipython",
    "version": 3
   },
   "file_extension": ".py",
   "mimetype": "text/x-python",
   "name": "python",
   "nbconvert_exporter": "python",
   "pygments_lexer": "ipython3",
   "version": "3.5.4"
  }
 },
 "nbformat": 4,
 "nbformat_minor": 2
}
