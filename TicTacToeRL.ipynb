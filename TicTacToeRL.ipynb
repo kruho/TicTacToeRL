{
 "cells": [
  {
   "cell_type": "code",
   "execution_count": 1,
   "metadata": {},
   "outputs": [],
   "source": [
    "import matplotlib.pyplot as plt\n",
    "%matplotlib inline"
   ]
  },
  {
   "cell_type": "code",
   "execution_count": 14,
   "metadata": {},
   "outputs": [],
   "source": [
    "def show_state(state):\n",
    "    plt.subplot(1,3,1)\n",
    "    plt.imshow(state[:,:,0])\n",
    "    plt.title('o')\n",
    "    plt.clim(0,1)\n",
    "\n",
    "    ax = plt.gca()\n",
    "    ax.set_xticks(np.arange(0, 3, 1))\n",
    "    ax.set_yticks(np.arange(0, 3, 1))\n",
    "    ax.set_xticks(np.arange(-.5, 3.5, 1), minor=True)\n",
    "    ax.set_yticks(np.arange(-.5, 3.5, 1), minor=True)\n",
    "    ax.grid(which='minor', color='w', linestyle='-', linewidth=2)\n",
    "\n",
    "    plt.subplot(1,3,2)\n",
    "    plt.imshow(state[:,:,1])\n",
    "    plt.title('x')\n",
    "    plt.clim(0,1)\n",
    "\n",
    "    ax = plt.gca()\n",
    "    ax.set_xticks(np.arange(0, 3, 1))\n",
    "    ax.set_yticks(np.arange(0, 3, 1))\n",
    "    ax.set_xticks(np.arange(-.5, 3.5, 1), minor=True)\n",
    "    ax.set_yticks(np.arange(-.5, 3.5, 1), minor=True)\n",
    "    ax.grid(which='minor', color='w', linestyle='-', linewidth=2)\n",
    "    \n",
    "    plt.subplot(1,3,3)\n",
    "    plt.imshow(state[:,:,2])\n",
    "    plt.title('move')\n",
    "    plt.clim(0,1)\n",
    "\n",
    "    ax = plt.gca()\n",
    "    ax.set_xticks(np.arange(0, 3, 1))\n",
    "    ax.set_yticks(np.arange(0, 3, 1))\n",
    "    ax.set_xticks(np.arange(-.5, 3.5, 1), minor=True)\n",
    "    ax.set_yticks(np.arange(-.5, 3.5, 1), minor=True)\n",
    "    ax.grid(which='minor', color='w', linestyle='-', linewidth=2)"
   ]
  },
  {
   "cell_type": "code",
   "execution_count": 181,
   "metadata": {},
   "outputs": [
    {
     "data": {
      "image/png": "[encoded data removed]",
      "text/plain": [
       "<matplotlib.figure.Figure at 0x18189509e8>"
      ]
     },
     "metadata": {},
     "output_type": "display_data"
    }
   ],
   "source": [
    "import numpy as np\n",
    "\n",
    "# 1チャンネル目が○、2チャンネル目が×, 3チャンネル目が手番\n",
    "\n",
    "board = np.zeros((3,3,3))\n",
    "board[:,:,0] = 1\n",
    "\n",
    "board = np.random.random((3,3,3))\n",
    "board = board>0.8\n",
    "#board[:,:,1] = board[:,:,0]-1\n",
    "board[:,:,-1] = 0\n",
    "\n",
    "show_state(board)"
   ]
  },
  {
   "cell_type": "code",
   "execution_count": 186,
   "metadata": {},
   "outputs": [
    {
     "data": {
      "image/png": "[encoded data removed]",
      "text/plain": [
       "<matplotlib.figure.Figure at 0x1818a66908>"
      ]
     },
     "metadata": {},
     "output_type": "display_data"
    }
   ],
   "source": [
    "show_state(board)"
   ]
  },
  {
   "cell_type": "code",
   "execution_count": 50,
   "metadata": {},
   "outputs": [
    {
     "name": "stdout",
     "output_type": "stream",
     "text": [
      "_________________________________________________________________\n",
      "Layer (type)                 Output Shape              Param #   \n",
      "=================================================================\n",
      "input_6 (InputLayer)         (None, 3, 3, 3)           0         \n",
      "_________________________________________________________________\n",
      "conv2d_11 (Conv2D)           (None, 3, 3, 4)           112       \n",
      "_________________________________________________________________\n",
      "batch_normalization_11 (Batc (None, 3, 3, 4)           16        \n",
      "_________________________________________________________________\n",
      "activation_11 (Activation)   (None, 3, 3, 4)           0         \n",
      "_________________________________________________________________\n",
      "conv2d_12 (Conv2D)           (None, 3, 3, 4)           148       \n",
      "_________________________________________________________________\n",
      "batch_normalization_12 (Batc (None, 3, 3, 4)           16        \n",
      "_________________________________________________________________\n",
      "activation_12 (Activation)   (None, 3, 3, 4)           0         \n",
      "_________________________________________________________________\n",
      "flatten_6 (Flatten)          (None, 36)                0         \n",
      "_________________________________________________________________\n",
      "dense_6 (Dense)              (None, 1)                 37        \n",
      "=================================================================\n",
      "Total params: 329\n",
      "Trainable params: 313\n",
      "Non-trainable params: 16\n",
      "_________________________________________________________________\n"
     ]
    }
   ],
   "source": [
    "from keras.layers import Input, Conv2D, Activation, BatchNormalization, Flatten, Dense\n",
    "from keras.models import Model\n",
    "\n",
    "state = h = Input((3,3,3))\n",
    "\n",
    "h = Conv2D(4, (3,3), padding='same')(h)\n",
    "h = BatchNormalization()(h)\n",
    "h = Activation('relu')(h)\n",
    "\n",
    "h = Conv2D(4, (3,3), padding='same')(h)\n",
    "h = BatchNormalization()(h)\n",
    "h = Activation('relu')(h)\n",
    "\n",
    "h = Flatten()(h)\n",
    "value = Dense(1)(h)\n",
    "\n",
    "value_function = Model(state, value)\n",
    "value_function.compile(loss='mse', optimizer='adam')\n",
    "value_function.summary()"
   ]
  },
  {
   "cell_type": "code",
   "execution_count": 143,
   "metadata": {},
   "outputs": [],
   "source": [
    "def get_permitted_actions(state):\n",
    "    '''\n",
    "    ○および×が置かれていない座標インデックスを返す。\n",
    "    '''\n",
    "    return np.where(state[:,:,0]+state[:,:,1]==0)"
   ]
  },
  {
   "cell_type": "code",
   "execution_count": 146,
   "metadata": {
    "scrolled": true
   },
   "outputs": [
    {
     "name": "stdout",
     "output_type": "stream",
     "text": [
      "(array([0, 1, 1, 2, 2]), array([2, 0, 2, 0, 1]))\n"
     ]
    },
    {
     "data": {
      "image/png": "[encoded data removed]",
      "text/plain": [
       "<matplotlib.figure.Figure at 0x1818a794a8>"
      ]
     },
     "metadata": {},
     "output_type": "display_data"
    },
    {
     "data": {
      "image/png": "[encoded data removed]",
      "text/plain": [
       "<matplotlib.figure.Figure at 0x1818999ba8>"
      ]
     },
     "metadata": {},
     "output_type": "display_data"
    },
    {
     "data": {
      "image/png": "[encoded data removed]",
      "text/plain": [
       "<matplotlib.figure.Figure at 0x18196786a0>"
      ]
     },
     "metadata": {},
     "output_type": "display_data"
    },
    {
     "data": {
      "image/png": "[encoded data removed]",
      "text/plain": [
       "<matplotlib.figure.Figure at 0x1818996278>"
      ]
     },
     "metadata": {},
     "output_type": "display_data"
    },
    {
     "data": {
      "image/png": "[encoded data removed]",
      "text/plain": [
       "<matplotlib.figure.Figure at 0x1819533f98>"
      ]
     },
     "metadata": {},
     "output_type": "display_data"
    }
   ],
   "source": [
    "empties = get_permitted_actions(board)\n",
    "print(empties)\n",
    "\n",
    "for e in zip(empties[0],empties[1]):\n",
    "    zeros = np.zeros((3,3))\n",
    "    zeros[e] = 1\n",
    "    plt.imshow(zeros)\n",
    "    plt.show()"
   ]
  },
  {
   "cell_type": "code",
   "execution_count": 226,
   "metadata": {},
   "outputs": [],
   "source": [
    "import copy\n",
    "\n",
    "def transition(current_state, action):\n",
    "    '''\n",
    "    action は ○ もしくは × を置く state のインデックス。\n",
    "    2チャンネル目が手番を表しているので、遷移後は手番を入れ替える。\n",
    "    '''\n",
    "    next_state = copy.deepcopy(current_state)\n",
    "    if current_state[:,:,-1][0,0]==0: # ○の手番の場合\n",
    "        next_state[action+(0,)] = 1\n",
    "        next_state[:,:,-1] = np.ones((3,3))\n",
    "    else: # ×の手番の場合\n",
    "        next_state[action+(1,)] = 1\n",
    "        next_state[:,:,-1] = np.zeros((3,3))\n",
    "    return next_state"
   ]
  },
  {
   "cell_type": "code",
   "execution_count": 227,
   "metadata": {},
   "outputs": [],
   "source": [
    "def get_best_action(current_state, value_function):\n",
    "    '''\n",
    "    行動空間が狭いので全探索する。\n",
    "    '''\n",
    "    a0,a1 = get_permitted_actions(current_state)\n",
    "    max_value = 1e-100\n",
    "    for action in zip(a0,a1):\n",
    "        next_state = transition(current_state, action)\n",
    "        next_value = value_function.predict(np.expand_dims(next_state,0)).squeeze() # バッチの次元を拡張して入力する。\n",
    "        if next_value>max_value:\n",
    "            max_value = next_value\n",
    "            best_action = action\n",
    "    return max_value, best_action"
   ]
  },
  {
   "cell_type": "code",
   "execution_count": 232,
   "metadata": {},
   "outputs": [
    {
     "data": {
      "image/png": "[encoded data removed]",
      "text/plain": [
       "<matplotlib.figure.Figure at 0x1055a13c8>"
      ]
     },
     "metadata": {},
     "output_type": "display_data"
    },
    {
     "data": {
      "image/png": "[encoded data removed]",
      "text/plain": [
       "<matplotlib.figure.Figure at 0x181928d0b8>"
      ]
     },
     "metadata": {},
     "output_type": "display_data"
    },
    {
     "data": {
      "image/png": "[encoded data removed]",
      "text/plain": [
       "<matplotlib.figure.Figure at 0x181835da20>"
      ]
     },
     "metadata": {},
     "output_type": "display_data"
    },
    {
     "data": {
      "image/png": "[encoded data removed]",
      "text/plain": [
       "<matplotlib.figure.Figure at 0x18182f31d0>"
      ]
     },
     "metadata": {},
     "output_type": "display_data"
    },
    {
     "data": {
      "image/png": "[encoded data removed]",
      "text/plain": [
       "<matplotlib.figure.Figure at 0x1818846320>"
      ]
     },
     "metadata": {},
     "output_type": "display_data"
    },
    {
     "data": {
      "image/png": "[encoded data removed]",
      "text/plain": [
       "<matplotlib.figure.Figure at 0x181855df98>"
      ]
     },
     "metadata": {},
     "output_type": "display_data"
    },
    {
     "data": {
      "image/png": "[encoded data removed]",
      "text/plain": [
       "<matplotlib.figure.Figure at 0x1818a877b8>"
      ]
     },
     "metadata": {},
     "output_type": "display_data"
    },
    {
     "data": {
      "image/png": "[encoded data removed]",
      "text/plain": [
       "<matplotlib.figure.Figure at 0x1818b2f668>"
      ]
     },
     "metadata": {},
     "output_type": "display_data"
    },
    {
     "data": {
      "image/png": "[encoded data removed]",
      "text/plain": [
       "<matplotlib.figure.Figure at 0x18188f9e80>"
      ]
     },
     "metadata": {},
     "output_type": "display_data"
    },
    {
     "data": {
      "image/png": "[encoded data removed]",
      "text/plain": [
       "<matplotlib.figure.Figure at 0x181897f668>"
      ]
     },
     "metadata": {},
     "output_type": "display_data"
    }
   ],
   "source": [
    "# 状態の初期化\n",
    "current_state = np.zeros((3,3,3))\n",
    "current_state[:,:,-1] = 0 # ○を先手とする。\n",
    "\n",
    "show_state(current_state)\n",
    "plt.show()\n",
    "\n",
    "for _ in range(9):\n",
    "    # 状態価値が最も高い行動を選択する。\n",
    "    max_value, best_action = get_best_action(current_state, value_function)\n",
    "\n",
    "    # 状態を更新する。\n",
    "    current_state = transition(current_state, best_action)\n",
    "\n",
    "    # 盤面の表示\n",
    "    show_state(current_state)\n",
    "    plt.show()\n",
    "    \n",
    "    # ゲームの終了判定\n"
   ]
  },
  {
   "cell_type": "code",
   "execution_count": null,
   "metadata": {},
   "outputs": [],
   "source": []
  },
  {
   "cell_type": "code",
   "execution_count": null,
   "metadata": {},
   "outputs": [],
   "source": []
  }
 ],
 "metadata": {
  "kernelspec": {
   "display_name": "Python [conda env:dl35]",
   "language": "python",
   "name": "conda-env-dl35-py"
  },
  "language_info": {
   "codemirror_mode": {
    "name": "ipython",
    "version": 3
   },
   "file_extension": ".py",
   "mimetype": "text/x-python",
   "name": "python",
   "nbconvert_exporter": "python",
   "pygments_lexer": "ipython3",
   "version": "3.5.4"
  }
 },
 "nbformat": 4,
 "nbformat_minor": 2
}
