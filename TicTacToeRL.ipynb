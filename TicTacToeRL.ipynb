{
 "cells": [
  {
   "cell_type": "code",
   "execution_count": 1,
   "metadata": {},
   "outputs": [],
   "source": [
    "import matplotlib.pyplot as plt\n",
    "%matplotlib inline"
   ]
  },
  {
   "cell_type": "code",
   "execution_count": 2,
   "metadata": {},
   "outputs": [],
   "source": [
    "def show_state(state):\n",
    "    plt.subplot(1,3,1)\n",
    "    plt.imshow(state[:,:,0])\n",
    "    plt.title('o')\n",
    "    plt.clim(0,1)\n",
    "\n",
    "    ax = plt.gca()\n",
    "    ax.set_xticks(np.arange(0, 3, 1))\n",
    "    ax.set_yticks(np.arange(0, 3, 1))\n",
    "    ax.set_xticks(np.arange(-.5, 3.5, 1), minor=True)\n",
    "    ax.set_yticks(np.arange(-.5, 3.5, 1), minor=True)\n",
    "    ax.grid(which='minor', color='w', linestyle='-', linewidth=2)\n",
    "\n",
    "    plt.subplot(1,3,2)\n",
    "    plt.imshow(state[:,:,1])\n",
    "    plt.title('x')\n",
    "    plt.clim(0,1)\n",
    "\n",
    "    ax = plt.gca()\n",
    "    ax.set_xticks(np.arange(0, 3, 1))\n",
    "    ax.set_yticks(np.arange(0, 3, 1))\n",
    "    ax.set_xticks(np.arange(-.5, 3.5, 1), minor=True)\n",
    "    ax.set_yticks(np.arange(-.5, 3.5, 1), minor=True)\n",
    "    ax.grid(which='minor', color='w', linestyle='-', linewidth=2)\n",
    "    \n",
    "    plt.subplot(1,3,3)\n",
    "    plt.imshow(state[:,:,2])\n",
    "    plt.title('move')\n",
    "    plt.clim(0,1)\n",
    "\n",
    "    ax = plt.gca()\n",
    "    ax.set_xticks(np.arange(0, 3, 1))\n",
    "    ax.set_yticks(np.arange(0, 3, 1))\n",
    "    ax.set_xticks(np.arange(-.5, 3.5, 1), minor=True)\n",
    "    ax.set_yticks(np.arange(-.5, 3.5, 1), minor=True)\n",
    "    ax.grid(which='minor', color='w', linestyle='-', linewidth=2)"
   ]
  },
  {
   "cell_type": "code",
   "execution_count": 3,
   "metadata": {},
   "outputs": [
    {
     "data": {
      "image/png": "[encoded data removed]",
      "text/plain": [
       "<matplotlib.figure.Figure at 0x10d4626a0>"
      ]
     },
     "metadata": {},
     "output_type": "display_data"
    }
   ],
   "source": [
    "import numpy as np\n",
    "\n",
    "# 1チャンネル目が○、2チャンネル目が×, 3チャンネル目が手番\n",
    "\n",
    "board = np.zeros((3,3,3))\n",
    "board[:,:,0] = 1\n",
    "\n",
    "board = np.random.random((3,3,3))\n",
    "board = board>0.8\n",
    "#board[:,:,1] = board[:,:,0]-1\n",
    "board[:,:,-1] = 0\n",
    "\n",
    "show_state(board)"
   ]
  },
  {
   "cell_type": "code",
   "execution_count": 4,
   "metadata": {},
   "outputs": [
    {
     "data": {
      "image/png": "[encoded data removed]",
      "text/plain": [
       "<matplotlib.figure.Figure at 0x10d462f98>"
      ]
     },
     "metadata": {},
     "output_type": "display_data"
    }
   ],
   "source": [
    "show_state(board)"
   ]
  },
  {
   "cell_type": "code",
   "execution_count": 5,
   "metadata": {},
   "outputs": [
    {
     "name": "stderr",
     "output_type": "stream",
     "text": [
      "/Users/ruhokondo/Programming/anaconda3/envs/dl35/lib/python3.5/site-packages/h5py/__init__.py:36: FutureWarning: Conversion of the second argument of issubdtype from `float` to `np.floating` is deprecated. In future, it will be treated as `np.float64 == np.dtype(float).type`.\n",
      "  from ._conv import register_converters as _register_converters\n",
      "Using TensorFlow backend.\n",
      "/Users/ruhokondo/Programming/anaconda3/envs/dl35/lib/python3.5/importlib/_bootstrap.py:222: RuntimeWarning: compiletime version 3.6 of module 'tensorflow.python.framework.fast_tensor_util' does not match runtime version 3.5\n",
      "  return f(*args, **kwds)\n"
     ]
    },
    {
     "name": "stdout",
     "output_type": "stream",
     "text": [
      "_________________________________________________________________\n",
      "Layer (type)                 Output Shape              Param #   \n",
      "=================================================================\n",
      "input_1 (InputLayer)         (None, 3, 3, 3)           0         \n",
      "_________________________________________________________________\n",
      "conv2d_1 (Conv2D)            (None, 3, 3, 4)           112       \n",
      "_________________________________________________________________\n",
      "batch_normalization_1 (Batch (None, 3, 3, 4)           16        \n",
      "_________________________________________________________________\n",
      "activation_1 (Activation)    (None, 3, 3, 4)           0         \n",
      "_________________________________________________________________\n",
      "conv2d_2 (Conv2D)            (None, 3, 3, 4)           148       \n",
      "_________________________________________________________________\n",
      "batch_normalization_2 (Batch (None, 3, 3, 4)           16        \n",
      "_________________________________________________________________\n",
      "activation_2 (Activation)    (None, 3, 3, 4)           0         \n",
      "_________________________________________________________________\n",
      "flatten_1 (Flatten)          (None, 36)                0         \n",
      "_________________________________________________________________\n",
      "dense_1 (Dense)              (None, 1)                 37        \n",
      "=================================================================\n",
      "Total params: 329\n",
      "Trainable params: 313\n",
      "Non-trainable params: 16\n",
      "_________________________________________________________________\n"
     ]
    }
   ],
   "source": [
    "from keras.layers import Input, Conv2D, Activation, BatchNormalization, Flatten, Dense\n",
    "from keras.models import Model\n",
    "\n",
    "state = h = Input((3,3,3))\n",
    "\n",
    "h = Conv2D(4, (3,3), padding='same')(h)\n",
    "h = BatchNormalization()(h)\n",
    "h = Activation('relu')(h)\n",
    "\n",
    "h = Conv2D(4, (3,3), padding='same')(h)\n",
    "h = BatchNormalization()(h)\n",
    "h = Activation('relu')(h)\n",
    "\n",
    "h = Flatten()(h)\n",
    "value = Dense(1)(h)\n",
    "\n",
    "value_function = Model(state, value)\n",
    "value_function.compile(loss='mse', optimizer='adam')\n",
    "value_function.summary()"
   ]
  },
  {
   "cell_type": "code",
   "execution_count": 6,
   "metadata": {},
   "outputs": [],
   "source": [
    "def get_permitted_actions(state):\n",
    "    '''\n",
    "    ○および×が置かれていない座標インデックスを返す。\n",
    "    '''\n",
    "    return np.where(state[:,:,0]+state[:,:,1]==0)"
   ]
  },
  {
   "cell_type": "code",
   "execution_count": 7,
   "metadata": {},
   "outputs": [],
   "source": [
    "import copy\n",
    "\n",
    "def transition(current_state, action):\n",
    "    '''\n",
    "    action は ○ もしくは × を置く state のインデックス。\n",
    "    2チャンネル目が手番を表しているので、遷移後は手番を入れ替える。\n",
    "    '''\n",
    "    next_state = copy.deepcopy(current_state)\n",
    "    if current_state[:,:,-1][0,0]==0: # ○の手番の場合\n",
    "        next_state[action+(0,)] = 1\n",
    "        next_state[:,:,-1] = np.ones((3,3))\n",
    "    else: # ×の手番の場合\n",
    "        next_state[action+(1,)] = 1\n",
    "        next_state[:,:,-1] = np.zeros((3,3))\n",
    "    return next_state"
   ]
  },
  {
   "cell_type": "code",
   "execution_count": 8,
   "metadata": {},
   "outputs": [],
   "source": [
    "def get_best_action(current_state, value_function):\n",
    "    '''\n",
    "    行動空間が狭いので全探索する。\n",
    "    '''\n",
    "    a0,a1 = get_permitted_actions(current_state)\n",
    "    max_value = -1e100\n",
    "    for action in zip(a0,a1):\n",
    "        next_state = transition(current_state, action)\n",
    "        next_value = value_function.predict(np.expand_dims(next_state,0)).squeeze() # バッチの次元を拡張して入力する。\n",
    "        if next_value>max_value:\n",
    "            max_value = next_value\n",
    "            best_action = action\n",
    "    return max_value, best_action"
   ]
  },
  {
   "cell_type": "code",
   "execution_count": 9,
   "metadata": {},
   "outputs": [],
   "source": [
    "nb_line = 3\n",
    "\n",
    "def judge_game(state):\n",
    "    winner = None\n",
    "    checked = np.zeros(state.shape[:2])\n",
    "    \n",
    "    try:\n",
    "        for i in range(state.shape[0]):\n",
    "            for j in range(state.shape[1]):\n",
    "                s = state[i,j,:2].argmax(-1)\n",
    "\n",
    "                # 右側をチェック\n",
    "                count = 0\n",
    "                for jj in range(j,j+nb_line):\n",
    "                    if state[i,jj,s]==1:\n",
    "                        count += 1\n",
    "                    if count==nb_line:\n",
    "                        winner = s\n",
    "                        raise Exception\n",
    "                    \n",
    "                # 下側をチェック\n",
    "                count = 0\n",
    "                for ii in range(i,i+nb_line):\n",
    "                    if state[ii,j,s]==1:\n",
    "                        count += 1\n",
    "                    if count==nb_line:\n",
    "                        winner = s\n",
    "                        raise Exception\n",
    "                        \n",
    "                # 右下をチェック\n",
    "                count = 0\n",
    "                for ii,jj in zip(range(i,i+nb_line),range(j,j+nb_line)):\n",
    "                    if state[ii,jj,s]==1:\n",
    "                        count += 1\n",
    "                    if count==nb_line:\n",
    "                        winner = s\n",
    "                        raise Exception\n",
    "                        \n",
    "                # 左下をチェック\n",
    "                count = 0\n",
    "                for ii,jj in zip(range(i,i-nb_line),range(j,j+nb_line)):\n",
    "                    if state[ii,jj,s]==1:\n",
    "                        count += 1\n",
    "                    if count==nb_line:\n",
    "                        winner = s\n",
    "                        raise Exception\n",
    "                        \n",
    "    except Exception:\n",
    "        pass\n",
    "    \n",
    "    return winner"
   ]
  },
  {
   "cell_type": "code",
   "execution_count": 10,
   "metadata": {},
   "outputs": [
    {
     "data": {
      "image/png": "[encoded data removed]",
      "text/plain": [
       "<matplotlib.figure.Figure at 0x181c6a7a58>"
      ]
     },
     "metadata": {},
     "output_type": "display_data"
    },
    {
     "data": {
      "image/png": "[encoded data removed]",
      "text/plain": [
       "<matplotlib.figure.Figure at 0x181c6a7828>"
      ]
     },
     "metadata": {},
     "output_type": "display_data"
    },
    {
     "data": {
      "image/png": "[encoded data removed]",
      "text/plain": [
       "<matplotlib.figure.Figure at 0x181c78e160>"
      ]
     },
     "metadata": {},
     "output_type": "display_data"
    },
    {
     "data": {
      "image/png": "[encoded data removed]",
      "text/plain": [
       "<matplotlib.figure.Figure at 0x181c7f66a0>"
      ]
     },
     "metadata": {},
     "output_type": "display_data"
    },
    {
     "data": {
      "image/png": "[encoded data removed]",
      "text/plain": [
       "<matplotlib.figure.Figure at 0x181c803978>"
      ]
     },
     "metadata": {},
     "output_type": "display_data"
    },
    {
     "data": {
      "image/png": "[encoded data removed]",
      "text/plain": [
       "<matplotlib.figure.Figure at 0x181c864550>"
      ]
     },
     "metadata": {},
     "output_type": "display_data"
    },
    {
     "data": {
      "image/png": "[encoded data removed]",
      "text/plain": [
       "<matplotlib.figure.Figure at 0x181c8e8c88>"
      ]
     },
     "metadata": {},
     "output_type": "display_data"
    },
    {
     "data": {
      "image/png": "[encoded data removed]",
      "text/plain": [
       "<matplotlib.figure.Figure at 0x181c746080>"
      ]
     },
     "metadata": {},
     "output_type": "display_data"
    },
    {
     "data": {
      "image/png": "[encoded data removed]",
      "text/plain": [
       "<matplotlib.figure.Figure at 0x10d5434a8>"
      ]
     },
     "metadata": {},
     "output_type": "display_data"
    },
    {
     "data": {
      "image/png": "[encoded data removed]",
      "text/plain": [
       "<matplotlib.figure.Figure at 0x181ca8fac8>"
      ]
     },
     "metadata": {},
     "output_type": "display_data"
    },
    {
     "name": "stdout",
     "output_type": "stream",
     "text": [
      "winner is 0\n"
     ]
    }
   ],
   "source": [
    "# 状態の初期化\n",
    "current_state = np.zeros((3,3,3))\n",
    "current_state[:,:,-1] = 0 # ○を先手とする。\n",
    "\n",
    "show_state(current_state)\n",
    "plt.show()\n",
    "\n",
    "try:\n",
    "    for _ in range(9):\n",
    "        # 状態価値が最も高い行動を選択する。\n",
    "        max_value, best_action = get_best_action(current_state, value_function)\n",
    "\n",
    "        # 状態を更新する。\n",
    "        current_state = transition(current_state, best_action)\n",
    "\n",
    "        # 盤面の表示\n",
    "        show_state(current_state)\n",
    "        plt.show()\n",
    "\n",
    "        # ゲームの終了判定\n",
    "        winner = judge_game(current_state)\n",
    "        \n",
    "        if winner is not None:\n",
    "            raise Exception\n",
    "\n",
    "except Exception:\n",
    "    pass\n",
    "\n",
    "if winner is None:\n",
    "    print('draw')\n",
    "else:\n",
    "    print('winner is '+str(winner))"
   ]
  },
  {
   "cell_type": "code",
   "execution_count": null,
   "metadata": {},
   "outputs": [],
   "source": []
  }
 ],
 "metadata": {
  "kernelspec": {
   "display_name": "Python [conda env:dl35]",
   "language": "python",
   "name": "conda-env-dl35-py"
  },
  "language_info": {
   "codemirror_mode": {
    "name": "ipython",
    "version": 3
   },
   "file_extension": ".py",
   "mimetype": "text/x-python",
   "name": "python",
   "nbconvert_exporter": "python",
   "pygments_lexer": "ipython3",
   "version": "3.5.4"
  }
 },
 "nbformat": 4,
 "nbformat_minor": 2
}
