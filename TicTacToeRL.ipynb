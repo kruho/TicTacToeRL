{
 "cells": [
  {
   "cell_type": "code",
   "execution_count": 1,
   "metadata": {},
   "outputs": [],
   "source": [
    "import matplotlib.pyplot as plt\n",
    "%matplotlib inline\n",
    "import numpy as np"
   ]
  },
  {
   "cell_type": "code",
   "execution_count": 2,
   "metadata": {},
   "outputs": [],
   "source": [
    "nb_mesh = 5\n",
    "nb_line = 3"
   ]
  },
  {
   "cell_type": "code",
   "execution_count": 3,
   "metadata": {},
   "outputs": [],
   "source": [
    "def show_state(state):\n",
    "    plt.subplot(1,3,1)\n",
    "    plt.imshow(state[:,:,0], 'Reds')\n",
    "    plt.title('o')\n",
    "    plt.clim(0,1)\n",
    "\n",
    "    ax = plt.gca()\n",
    "    ax.set_xticks(np.arange(0, nb_mesh, 1))\n",
    "    ax.set_yticks(np.arange(0, nb_mesh, 1))\n",
    "    ax.set_xticks(np.arange(-.5, nb_mesh+0.5, 1), minor=True)\n",
    "    ax.set_yticks(np.arange(-.5, nb_mesh+0.5, 1), minor=True)\n",
    "    ax.grid(which='minor', color='w', linestyle='-', linewidth=2)\n",
    "\n",
    "    plt.subplot(1,3,2)\n",
    "    plt.imshow(state[:,:,1], 'Blues')\n",
    "    plt.title('x')\n",
    "    plt.clim(0,1)\n",
    "\n",
    "    ax = plt.gca()\n",
    "    ax.set_xticks(np.arange(0, nb_mesh, 1))\n",
    "    ax.set_yticks(np.arange(0, nb_mesh, 1))\n",
    "    ax.set_xticks(np.arange(-.5, nb_mesh+0.5, 1), minor=True)\n",
    "    ax.set_yticks(np.arange(-.5, nb_mesh+0.5, 1), minor=True)\n",
    "    ax.grid(which='minor', color='w', linestyle='-', linewidth=2)\n",
    "    \n",
    "    plt.subplot(1,3,3)\n",
    "    plt.imshow(state[:,:,2], 'RdBu')\n",
    "    plt.title('move')\n",
    "    plt.clim(0,1)\n",
    "\n",
    "    ax = plt.gca()\n",
    "    ax.set_xticks(np.arange(0, nb_mesh, 1))\n",
    "    ax.set_yticks(np.arange(0, nb_mesh, 1))\n",
    "    ax.set_xticks(np.arange(-.5, nb_mesh+0.5, 1), minor=True)\n",
    "    ax.set_yticks(np.arange(-.5, nb_mesh+0.5, 1), minor=True)\n",
    "    ax.grid(which='minor', color='w', linestyle='-', linewidth=2)"
   ]
  },
  {
   "cell_type": "code",
   "execution_count": 4,
   "metadata": {},
   "outputs": [
    {
     "name": "stderr",
     "output_type": "stream",
     "text": [
      "/Users/ruhokondo/Programming/anaconda3/envs/dl35/lib/python3.5/site-packages/h5py/__init__.py:36: FutureWarning: Conversion of the second argument of issubdtype from `float` to `np.floating` is deprecated. In future, it will be treated as `np.float64 == np.dtype(float).type`.\n",
      "  from ._conv import register_converters as _register_converters\n",
      "Using TensorFlow backend.\n",
      "/Users/ruhokondo/Programming/anaconda3/envs/dl35/lib/python3.5/importlib/_bootstrap.py:222: RuntimeWarning: compiletime version 3.6 of module 'tensorflow.python.framework.fast_tensor_util' does not match runtime version 3.5\n",
      "  return f(*args, **kwds)\n"
     ]
    },
    {
     "name": "stdout",
     "output_type": "stream",
     "text": [
      "_________________________________________________________________\n",
      "Layer (type)                 Output Shape              Param #   \n",
      "=================================================================\n",
      "input_1 (InputLayer)         (None, 5, 5, 3)           0         \n",
      "_________________________________________________________________\n",
      "conv2d_1 (Conv2D)            (None, 5, 5, 16)          448       \n",
      "_________________________________________________________________\n",
      "batch_normalization_1 (Batch (None, 5, 5, 16)          64        \n",
      "_________________________________________________________________\n",
      "activation_1 (Activation)    (None, 5, 5, 16)          0         \n",
      "_________________________________________________________________\n",
      "conv2d_2 (Conv2D)            (None, 5, 5, 16)          2320      \n",
      "_________________________________________________________________\n",
      "batch_normalization_2 (Batch (None, 5, 5, 16)          64        \n",
      "_________________________________________________________________\n",
      "activation_2 (Activation)    (None, 5, 5, 16)          0         \n",
      "_________________________________________________________________\n",
      "conv2d_3 (Conv2D)            (None, 5, 5, 16)          2320      \n",
      "_________________________________________________________________\n",
      "batch_normalization_3 (Batch (None, 5, 5, 16)          64        \n",
      "_________________________________________________________________\n",
      "activation_3 (Activation)    (None, 5, 5, 16)          0         \n",
      "_________________________________________________________________\n",
      "flatten_1 (Flatten)          (None, 400)               0         \n",
      "_________________________________________________________________\n",
      "dense_1 (Dense)              (None, 1)                 401       \n",
      "=================================================================\n",
      "Total params: 5,681\n",
      "Trainable params: 5,585\n",
      "Non-trainable params: 96\n",
      "_________________________________________________________________\n"
     ]
    }
   ],
   "source": [
    "from keras.layers import Input, Conv2D, Activation, BatchNormalization, Flatten, Dense\n",
    "from keras.models import Model\n",
    "from keras.optimizers import Adam\n",
    "\n",
    "state = h = Input((nb_mesh,nb_mesh,3))\n",
    "\n",
    "h = Conv2D(16, (3,3), padding='same')(h)\n",
    "h = BatchNormalization()(h)\n",
    "h = Activation('relu')(h)\n",
    "\n",
    "h = Conv2D(16, (3,3), padding='same')(h)\n",
    "h = BatchNormalization()(h)\n",
    "h = Activation('relu')(h)\n",
    "\n",
    "h = Conv2D(16, (3,3), padding='same')(h)\n",
    "h = BatchNormalization()(h)\n",
    "h = Activation('relu')(h)\n",
    "\n",
    "h = Flatten()(h)\n",
    "value = Dense(1, activation='tanh')(h)\n",
    "\n",
    "value_function = Model(state, value)\n",
    "optimizer = Adam(lr=1e-4)\n",
    "value_function.compile(loss='mse', optimizer=optimizer)\n",
    "value_function.summary()"
   ]
  },
  {
   "cell_type": "code",
   "execution_count": 5,
   "metadata": {},
   "outputs": [],
   "source": [
    "def get_permitted_actions(state):\n",
    "    '''\n",
    "    ○および×が置かれていない座標インデックスを返す。\n",
    "    '''\n",
    "    return np.where(state[:,:,0]+state[:,:,1]==0)"
   ]
  },
  {
   "cell_type": "code",
   "execution_count": 6,
   "metadata": {},
   "outputs": [],
   "source": [
    "import copy\n",
    "\n",
    "def transition(current_state, action):\n",
    "    '''\n",
    "    action は ○ もしくは × を置く state のインデックス。\n",
    "    2チャンネル目が手番を表しているので、遷移後は手番を入れ替える。\n",
    "    '''\n",
    "    next_state = copy.deepcopy(current_state)\n",
    "    if current_state[:,:,-1][0,0]==0: # ○の手番の場合\n",
    "        next_state[action+(0,)] = 1\n",
    "        next_state[:,:,-1] = np.ones((nb_mesh,nb_mesh))\n",
    "    else: # ×の手番の場合\n",
    "        next_state[action+(1,)] = 1\n",
    "        next_state[:,:,-1] = np.zeros((nb_mesh,nb_mesh))\n",
    "    return next_state"
   ]
  },
  {
   "cell_type": "code",
   "execution_count": 7,
   "metadata": {},
   "outputs": [],
   "source": [
    "def get_best_action(current_state, value_function):\n",
    "    '''\n",
    "    行動空間が狭いので全探索する。\n",
    "    '''\n",
    "    a0,a1 = get_permitted_actions(current_state)\n",
    "    max_value = -1e100\n",
    "    for action in zip(a0,a1):\n",
    "        next_state = transition(current_state, action)\n",
    "        \n",
    "        if judge_game(next_state) is not None:\n",
    "            next_value = 1.\n",
    "        else:\n",
    "            next_value = value_function.predict(np.expand_dims(next_state,0)).squeeze() # バッチの次元を拡張して入力する。\n",
    "        \n",
    "        if next_value>max_value:\n",
    "            max_value = next_value\n",
    "            best_action = action\n",
    "    return max_value, best_action"
   ]
  },
  {
   "cell_type": "code",
   "execution_count": 8,
   "metadata": {},
   "outputs": [],
   "source": [
    "def judge_game(state):\n",
    "    winner = None\n",
    "    checked = np.zeros(state.shape[:2])\n",
    "    \n",
    "    try:\n",
    "        for i in range(state.shape[0]):\n",
    "            for j in range(state.shape[1]):\n",
    "                s = state[i,j,:2].argmax(-1)\n",
    "\n",
    "                # 右側をチェック\n",
    "                count = 0\n",
    "                for jj in range(j,min(j+nb_line,state.shape[1])):\n",
    "                    if state[i,jj,s]==1:\n",
    "                        count += 1\n",
    "                    if count==nb_line:\n",
    "                        winner = s\n",
    "                        raise Exception\n",
    "                    \n",
    "                # 下側をチェック\n",
    "                count = 0\n",
    "                for ii in range(i,min(i+nb_line,state.shape[0])):\n",
    "                    if state[ii,j,s]==1:\n",
    "                        count += 1\n",
    "                    if count==nb_line:\n",
    "                        winner = s\n",
    "                        raise Exception\n",
    "                        \n",
    "                # 右下をチェック\n",
    "                count = 0\n",
    "                for ii,jj in zip(range(i,min(i+nb_line,state.shape[0])),range(j,min(j+nb_line,state.shape[1]))):\n",
    "                    if state[ii,jj,s]==1:\n",
    "                        count += 1\n",
    "                    if count==nb_line:\n",
    "                        winner = s\n",
    "                        raise Exception\n",
    "                        \n",
    "                # 左下をチェック\n",
    "                count = 0\n",
    "                for ii,jj in zip(range(i,max(i-nb_line,0)-1,-1),range(j,min(j+nb_line,state.shape[1]))):\n",
    "                    if state[ii,jj,s]==1:\n",
    "                        count += 1\n",
    "                    if count==nb_line:\n",
    "                        winner = s\n",
    "                        raise Exception\n",
    "                        \n",
    "    except Exception:\n",
    "        pass\n",
    "    \n",
    "    return winner"
   ]
  },
  {
   "cell_type": "code",
   "execution_count": 9,
   "metadata": {},
   "outputs": [],
   "source": [
    "discount = 0.99\n",
    "#discount = 1.\n",
    "epsilon = 0.3"
   ]
  },
  {
   "cell_type": "code",
   "execution_count": 10,
   "metadata": {},
   "outputs": [],
   "source": [
    "def show_state_2(state):\n",
    "    board = np.zeros((nb_mesh,nb_mesh))\n",
    "    board += state[:,:,0]\n",
    "    board -= state[:,:,1]\n",
    "    plt.imshow(board, 'RdBu_r')\n",
    "    plt.title('o')\n",
    "    plt.clim(-1,1)\n",
    "\n",
    "    ax = plt.gca()\n",
    "    ax.set_xticks(np.arange(0, nb_mesh, 1))\n",
    "    ax.set_yticks(np.arange(0, nb_mesh, 1))\n",
    "    ax.set_xticks(np.arange(-.5, nb_mesh+.5, 1), minor=True)\n",
    "    ax.set_yticks(np.arange(-.5, nb_mesh+.5, 1), minor=True)\n",
    "    ax.grid(which='minor', color='w', linestyle='-', linewidth=2)"
   ]
  },
  {
   "cell_type": "code",
   "execution_count": 11,
   "metadata": {
    "scrolled": true
   },
   "outputs": [
    {
     "name": "stderr",
     "output_type": "stream",
     "text": [
      "100%|██████████| 5000/5000 [12:36<00:00,  6.61it/s]\n"
     ]
    }
   ],
   "source": [
    "#from tqdm import tqdm_notebook as tqdm\n",
    "from tqdm import tqdm\n",
    "\n",
    "for nb_episode in tqdm(range(5000)):\n",
    "    \n",
    "    # 状態の初期化\n",
    "    current_state = np.zeros((nb_mesh,nb_mesh,3))\n",
    "    current_state[:,:,-1] = np.random.randint(0,2) # ランダムに先手を決める。\n",
    "\n",
    "    winner = None\n",
    "\n",
    "    try:\n",
    "        for nb_move in range(nb_mesh*nb_mesh):\n",
    "\n",
    "            # 盤面の表示\n",
    "#            show_state(current_state)\n",
    "#            plt.show()\n",
    "\n",
    "            # 現在の指し手\n",
    "            current_move = current_state[0,0,-1].astype(np.int32)\n",
    "\n",
    "            # 状態価値が最も高くなる行動と、その行動を取った時の遷移後の状態価値を計算する。\n",
    "            max_value, best_action = get_best_action(current_state, value_function)\n",
    "\n",
    "            # 状態価値が最も高くなる行動を選択する。ただし、確率εでランダムな行動を取る。\n",
    "            if np.random.random(1)<epsilon:\n",
    "                acceptable_action = get_permitted_actions(current_state)\n",
    "                random_idx = np.random.randint(0,len(acceptable_action[0]))\n",
    "                action = (acceptable_action[0][random_idx], acceptable_action[1][random_idx])\n",
    "            else:\n",
    "                action = best_action\n",
    "                \n",
    "            # 遷移後状態を計算する（まだ遷移させない）。\n",
    "            next_state = transition(current_state, action)\n",
    "\n",
    "            # ゲームの終了判定\n",
    "            winner = judge_game(next_state)\n",
    "\n",
    "            # 報酬の計算\n",
    "            if winner==current_move:\n",
    "                reward = 1.\n",
    "            else:\n",
    "                reward = discount * max_value\n",
    "\n",
    "            # 状態価値の更新\n",
    "#            print(reward + discount * max_value)\n",
    "            value_function.fit(\n",
    "                x=np.expand_dims(current_state,0),\n",
    "                y=np.expand_dims(reward,0),\n",
    "                epochs=1,\n",
    "                verbose=0,\n",
    "            )\n",
    "    \n",
    "            if True:\n",
    "                if winner is not None:\n",
    "                    '''\n",
    "                    勝敗が決着した場合、一手前の盤面には負の報酬を与える。\n",
    "                    '''\n",
    "                    value_function.fit(\n",
    "                        x=np.expand_dims(past_state,0),\n",
    "                        y=np.expand_dims(past_r_sum,0),\n",
    "                        epochs=1,\n",
    "                        verbose=0,\n",
    "                    )\n",
    "\n",
    "            # 現在の盤面を1手前の盤面として記憶しておく。\n",
    "            past_state = copy.deepcopy(current_state)\n",
    "            past_r_sum = -1\n",
    "            \n",
    "            # 状態を更新する。\n",
    "            current_state = copy.deepcopy(next_state)\n",
    "\n",
    "            if winner is not None:\n",
    "                raise Exception\n",
    "\n",
    "    except Exception:\n",
    "        pass\n",
    "\n",
    "    # 最終盤面の表示\n",
    "    if False:\n",
    "        show_state_2(current_state)\n",
    "        if winner is None:\n",
    "            plt.title('episode: '+str(nb_episode)+' draw'+'  nb_move='+str(nb_move+1))\n",
    "        else:\n",
    "            if winner==0:\n",
    "                winner_name='Red'\n",
    "            else:\n",
    "                winner_name='Blue'\n",
    "            plt.title('episode: '+str(nb_episode)+' '+winner_name+' won'+'  nb_move='+str(nb_move+1))\n",
    "        plt.show()\n",
    "        \n",
    "\n",
    "    # epsilonを減衰させる。\n",
    "    epsilon = epsilon * 0.99    "
   ]
  },
  {
   "cell_type": "code",
   "execution_count": 12,
   "metadata": {},
   "outputs": [
    {
     "name": "stdout",
     "output_type": "stream",
     "text": [
      "4.4987746829938445e-23\n"
     ]
    }
   ],
   "source": [
    "print(epsilon)"
   ]
  },
  {
   "cell_type": "code",
   "execution_count": 13,
   "metadata": {
    "scrolled": false
   },
   "outputs": [
    {
     "data": {
      "image/png": "[encoded data removed]",
      "text/plain": [
       "<matplotlib.figure.Figure at 0x181b17e0b8>"
      ]
     },
     "metadata": {},
     "output_type": "display_data"
    },
    {
     "data": {
      "image/png": "[encoded data removed]",
      "text/plain": [
       "<matplotlib.figure.Figure at 0x181b176f98>"
      ]
     },
     "metadata": {},
     "output_type": "display_data"
    },
    {
     "data": {
      "image/png": "[encoded data removed]",
      "text/plain": [
       "<matplotlib.figure.Figure at 0x181e237748>"
      ]
     },
     "metadata": {},
     "output_type": "display_data"
    },
    {
     "data": {
      "image/png": "[encoded data removed]",
      "text/plain": [
       "<matplotlib.figure.Figure at 0x181e353ac8>"
      ]
     },
     "metadata": {},
     "output_type": "display_data"
    },
    {
     "data": {
      "image/png": "[encoded data removed]",
      "text/plain": [
       "<matplotlib.figure.Figure at 0x181e40bac8>"
      ]
     },
     "metadata": {},
     "output_type": "display_data"
    },
    {
     "data": {
      "image/png": "[encoded data removed]",
      "text/plain": [
       "<matplotlib.figure.Figure at 0x181e4c0ac8>"
      ]
     },
     "metadata": {},
     "output_type": "display_data"
    },
    {
     "data": {
      "image/png": "[encoded data removed]",
      "text/plain": [
       "<matplotlib.figure.Figure at 0x181e578a58>"
      ]
     },
     "metadata": {},
     "output_type": "display_data"
    },
    {
     "data": {
      "image/png": "[encoded data removed]",
      "text/plain": [
       "<matplotlib.figure.Figure at 0x181b17e630>"
      ]
     },
     "metadata": {},
     "output_type": "display_data"
    },
    {
     "name": "stdout",
     "output_type": "stream",
     "text": [
      "winner is 0  nb_move=7\n"
     ]
    }
   ],
   "source": [
    "# 状態の初期化\n",
    "current_state = np.zeros((nb_mesh,nb_mesh,3))\n",
    "current_state[:,:,-1] = np.random.randint(0,2) # ランダムに先手を決める。\n",
    "\n",
    "winner = None\n",
    "\n",
    "try:\n",
    "    for nb_move in range(nb_mesh*nb_mesh):\n",
    "\n",
    "        # 盤面の表示\n",
    "        show_state_2(current_state)\n",
    "        plt.title(value_function.predict(np.expand_dims(current_state,0)).squeeze())\n",
    "        plt.show()\n",
    "\n",
    "        # 現在の指し手\n",
    "        current_move = current_state[0,0,-1].astype(np.int32)\n",
    "\n",
    "        # 状態価値が最も高くなる行動と、その行動を取った時の遷移後の状態価値を計算する。\n",
    "        max_value, best_action = get_best_action(current_state, value_function)\n",
    "\n",
    "        # 状態価値が最も高くなる行動を選択する。ただし、確率εでランダムな行動を取る。\n",
    "        if np.random.random(1)<epsilon:\n",
    "            acceptable_action = get_permitted_actions(current_state)\n",
    "            random_idx = np.random.randint(0,len(acceptable_action[0]))\n",
    "            action = (acceptable_action[0][random_idx], acceptable_action[1][random_idx])\n",
    "        else:\n",
    "            action = best_action\n",
    "\n",
    "        # 遷移後状態を計算する（まだ遷移させない）。\n",
    "        next_state = transition(current_state, action)\n",
    "\n",
    "        # ゲームの終了判定\n",
    "        winner = judge_game(next_state)\n",
    "\n",
    "        # 状態を更新する。\n",
    "        current_state = copy.deepcopy(next_state)\n",
    "\n",
    "        if winner is not None:\n",
    "            raise Exception\n",
    "\n",
    "except Exception:\n",
    "    pass\n",
    "\n",
    "# 最終盤面の表示\n",
    "show_state_2(current_state)\n",
    "plt.show()\n",
    "\n",
    "\n",
    "if winner is None:\n",
    "    print('draw'+'  nb_move='+str(nb_move+1))\n",
    "else:\n",
    "    print('winner is '+str(winner)+'  nb_move='+str(nb_move+1))"
   ]
  },
  {
   "cell_type": "code",
   "execution_count": null,
   "metadata": {},
   "outputs": [],
   "source": []
  }
 ],
 "metadata": {
  "kernelspec": {
   "display_name": "Python [conda env:dl35]",
   "language": "python",
   "name": "conda-env-dl35-py"
  },
  "language_info": {
   "codemirror_mode": {
    "name": "ipython",
    "version": 3
   },
   "file_extension": ".py",
   "mimetype": "text/x-python",
   "name": "python",
   "nbconvert_exporter": "python",
   "pygments_lexer": "ipython3",
   "version": "3.5.4"
  }
 },
 "nbformat": 4,
 "nbformat_minor": 2
}
