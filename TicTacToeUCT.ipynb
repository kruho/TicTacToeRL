{
 "cells": [
  {
   "cell_type": "markdown",
   "metadata": {},
   "source": [
    "https://github.com/haroldsultan/MCTS  \n",
    "を参照。"
   ]
  },
  {
   "cell_type": "code",
   "execution_count": 1,
   "metadata": {},
   "outputs": [],
   "source": [
    "import matplotlib.pyplot as plt\n",
    "%matplotlib inline\n",
    "import numpy as np"
   ]
  },
  {
   "cell_type": "code",
   "execution_count": 2,
   "metadata": {},
   "outputs": [],
   "source": [
    "nb_mesh = 5\n",
    "nb_line = 4\n",
    "budget = 100\n",
    "SCALAR = 1. / np.sqrt(2.)\n",
    "#SCALAR = 0."
   ]
  },
  {
   "cell_type": "code",
   "execution_count": 3,
   "metadata": {},
   "outputs": [],
   "source": [
    "import copy\n",
    "\n",
    "def get_permitted_actions(state):\n",
    "    '''\n",
    "    ○ および × が置かれていない座標インデックスを返す。\n",
    "    '''\n",
    "    return np.where(state[:,:,0]+state[:,:,1]==0)\n",
    "\n",
    "\n",
    "def transition(current_state, action):\n",
    "    '''\n",
    "    action は ○ もしくは × を置く state のインデックス。\n",
    "    3チャンネル目が手番を表しているので、遷移後は手番を入れ替える。\n",
    "    '''\n",
    "    next_state = copy.deepcopy(current_state)\n",
    "    if current_state[:,:,-1][0,0]==0: # ○の手番の場合\n",
    "        next_state[action+(0,)] = 1\n",
    "        next_state[:,:,-1] = np.ones((nb_mesh,nb_mesh))\n",
    "    else: # ×の手番の場合\n",
    "        next_state[action+(1,)] = 1\n",
    "        next_state[:,:,-1] = np.zeros((nb_mesh,nb_mesh))\n",
    "    return next_state\n",
    "\n",
    "\n",
    "def judge_game(state):\n",
    "    winner = None\n",
    "    \n",
    "    try:\n",
    "        for i in range(state.shape[0]):\n",
    "            for j in range(state.shape[1]):\n",
    "                s = state[i,j,:2].argmax(-1)\n",
    "\n",
    "                # 右側をチェック\n",
    "                count = 0\n",
    "                for jj in range(j,min(j+nb_line,state.shape[1])):\n",
    "                    if state[i,jj,s]==1:\n",
    "                        count += 1\n",
    "                    if count==nb_line:\n",
    "                        winner = s\n",
    "                        raise Exception\n",
    "                    \n",
    "                # 下側をチェック\n",
    "                count = 0\n",
    "                for ii in range(i,min(i+nb_line,state.shape[0])):\n",
    "                    if state[ii,j,s]==1:\n",
    "                        count += 1\n",
    "                    if count==nb_line:\n",
    "                        winner = s\n",
    "                        raise Exception\n",
    "                        \n",
    "                # 右下をチェック\n",
    "                count = 0\n",
    "                for ii,jj in zip(range(i,min(i+nb_line,state.shape[0])),range(j,min(j+nb_line,state.shape[1]))):\n",
    "                    if state[ii,jj,s]==1:\n",
    "                        count += 1\n",
    "                    if count==nb_line:\n",
    "                        winner = s\n",
    "                        raise Exception\n",
    "                        \n",
    "                # 左下をチェック\n",
    "                count = 0\n",
    "                for ii,jj in zip(range(i,max(i-nb_line,0)-1,-1),range(j,min(j+nb_line,state.shape[1]))):\n",
    "                    if state[ii,jj,s]==1:\n",
    "                        count += 1\n",
    "                    if count==nb_line:\n",
    "                        winner = s\n",
    "                        raise Exception\n",
    "                        \n",
    "    except Exception as e:\n",
    "#        print('=== エラー内容 ===')\n",
    "#        print('type:' + str(type(e)))\n",
    "#        print('args:' + str(e.args))\n",
    "#        print('message:' + e.message)\n",
    "#        print('e自身:' + str(e))\n",
    "        pass\n",
    "    \n",
    "    return winner"
   ]
  },
  {
   "cell_type": "code",
   "execution_count": 4,
   "metadata": {},
   "outputs": [],
   "source": [
    "class State(object):\n",
    "    def __init__(self, state_array):\n",
    "        self.state_array = state_array\n",
    "        \n",
    "        \n",
    "    def next_state(self):\n",
    "        acceptable_action = get_permitted_actions(self.state_array)\n",
    "        random_idx = np.random.randint(0,len(acceptable_action[0]))\n",
    "        random_action = (acceptable_action[0][random_idx], acceptable_action[1][random_idx])\n",
    "        return State(transition(self.state_array, random_action))\n",
    "        \n",
    "        \n",
    "    def terminal(self):\n",
    "        winner = judge_game(self.state_array)\n",
    "        if winner is not None:\n",
    "            return True\n",
    "\n",
    "        acceptable_action = get_permitted_actions(self.state_array)\n",
    "        if len(acceptable_action[0]) == 0:\n",
    "            return True\n",
    "        \n",
    "        return False\n",
    "    \n",
    "    \n",
    "    def reward(self, root):\n",
    "        '''\n",
    "        TODO: 相手の勝利を妨害したことによる報酬\n",
    "        '''\n",
    "        winner = judge_game(self.state_array)\n",
    "        if winner is None:\n",
    "#            r = 0.\n",
    "            r = 0.5\n",
    "        else:\n",
    "            who_is_root = root.state.state_array[0,0,-1].astype(np.int32)\n",
    "            if winner==who_is_root:\n",
    "                r = 1.\n",
    "            else:\n",
    "#                r = -1.\n",
    "                r = 0.\n",
    "        return r\n",
    "\n",
    "class Node(object):\n",
    "    def __init__(self, state, parent=None):\n",
    "#        self.visits = 1 # 訪問回数\n",
    "        self.visits = 0 # 訪問回数\n",
    "        self.reward = 0. # ノード価値\n",
    "        self.state = state # ノード状態。Stateインスタンス。\n",
    "        self.children = [] # 子ノードのリスト。リストの要素はNodeインスタンス。\n",
    "        self.parent = parent # 親ノード。Nodeインスタンス。\n",
    "        self.expanded_action = [] \n",
    "        \n",
    "        \n",
    "    def add_child(self, child_state):\n",
    "        child = Node(child_state, self)\n",
    "        self.children.append(child)\n",
    "        \n",
    "        \n",
    "    def update(self, reward):\n",
    "        self.reward += reward\n",
    "        self.visits += 1\n",
    "        \n",
    "        \n",
    "    def fully_expanded(self):\n",
    "        acceptable_action = get_permitted_actions(self.state.state_array)\n",
    "        if len(self.children)==len(acceptable_action[0]):\n",
    "            return True\n",
    "        return False"
   ]
  },
  {
   "cell_type": "code",
   "execution_count": 5,
   "metadata": {},
   "outputs": [],
   "source": [
    "import math\n",
    "import random\n",
    "\n",
    "def UCTSEARCH(budget, root):\n",
    "    '''\n",
    "    <TREEPOLICY>\n",
    "    ルートノードから始めてスコアの高い子ノードをたどる。\n",
    "    もし途中で expand 可能なノードがあれば、そのノードは expand する。\n",
    "    スコアの最も高い末端ノードまたは expand して得られた新たなノードが front。\n",
    "\n",
    "    <DEFAULTPOLICY>\n",
    "    front から先は play out して終端までたどり着く。\n",
    "    たどり着いた先のノードの状態で得られる報酬が reward。\n",
    "\n",
    "    <BACKUP>\n",
    "    front から初めてルートノードに到るまで道中を遡りながら、\n",
    "    道中のノードの訪問回数と価値を更新していく。\n",
    "    価値の更新は単純に終端ノードの reward を足すだけ。\n",
    "    '''\n",
    "#    plt.figure(figsize=(15,35))\n",
    "    \n",
    "    for iter in range(int(budget)):\n",
    "        front = TREEPOLICY(root)\n",
    "        reward, final_state = DEFAULTPOLICY(root, front.state)\n",
    "        BACKUP(front,reward)\n",
    "        \n",
    "#        plt.subplot(20,10,2*iter+1)\n",
    "#        show_state(front.state.state_array)\n",
    "#        plt.subplot(20,10,2*iter+2)\n",
    "#        show_state(final_state.state_array)\n",
    "#        plt.title(reward)\n",
    "#    plt.show()\n",
    "    return BESTCHILD(root,0)\n",
    "\n",
    "    \n",
    "def TREEPOLICY(node):\n",
    "    '''\n",
    "    ルートノードから始めて以下の判定を繰り返しながら子ノードへ深く潜る。\n",
    "　    　 |_ expand 可能　：　expand して新たな子ノードを得て終了。\n",
    "       　　　　　　　　　 　　　　　　　　　　　　　　　　　（TREEPOLICY を終えて play out に移る）\n",
    "  　 　  |_ expand 不可　： 子ノードの中から最もスコアの高いノードを探し出し、その子ノードへ行く。\n",
    "    '''\n",
    "    while node.state.terminal()==False:\n",
    "        if node.fully_expanded()==False:\n",
    "            return EXPAND(node)\n",
    "        else:\n",
    "            node = BESTCHILD(node, SCALAR)\n",
    "            \n",
    "#        if len(node.children)==0:\n",
    "#            return EXPAND(node)\n",
    "#        elif random.uniform(0,1)<.5:\n",
    "#            node=BESTCHILD(node,SCALAR)\n",
    "#        else:\n",
    "#            if node.fully_expanded()==False:\n",
    "#                return EXPAND(node)\n",
    "#            else:\n",
    "#                node=BESTCHILD(node,SCALAR)\n",
    "    return node\n",
    "\n",
    "\n",
    "def EXPAND(node):\n",
    "    '''\n",
    "    1. node が取り得る行動からランダムに行動を選択。\n",
    "    2. 状態遷移させて、遷移後の状態(new_state)を獲得。\n",
    "    3. 子ノードの状態（tried_children）と重複しているかどうかをチェック。\n",
    "      |_ 重複していた　　　　　　　　　　：　もう一度ランダムに行動を選ぶ。\n",
    "      |_ 重複していなかった　：　遷移後の状態(new_state)を新たな子ノードの状態とする。\n",
    "    '''\n",
    "    tried_children = [c.state.state_array for c in node.children] # それぞれの子ノードの状態\n",
    "    new_state = node.state.next_state() # 自身の次の状態をランダムに決める\n",
    "    try:\n",
    "        while True:\n",
    "            identity = []\n",
    "            for child_state_array in tried_children:\n",
    "                identity.append(np.all(new_state.state_array==child_state_array))\n",
    "            if np.array(identity).sum():\n",
    "                new_state = node.state.next_state()\n",
    "            else:\n",
    "                raise Exception\n",
    "    except Exception:\n",
    "        pass\n",
    "#    while new_state.state_array in tried_children: # すでに存在している子ノードの状態と被らないような新しい状態を探し出す\n",
    "#        new_state = node.state.next_state()\n",
    "    node.add_child(new_state) # 新しい次の状態を子ノードに加える\n",
    "    return node.children[-1] # 新しく加えた子ノードを返す\n",
    "\n",
    "\n",
    "def BESTCHILD(node, scalar):\n",
    "    '''\n",
    "    最もスコアの高い子ノードを返す。\n",
    "    同スコアのノードがある場合は、その中からランダムに選んで返す。\n",
    "    '''\n",
    "    bestscore = -1e100\n",
    "    bestchildren=[]\n",
    "    for c in node.children:\n",
    "        exploit = c.reward / float(c.visits)\n",
    "        explore = math.sqrt(2. * math.log(node.visits) / float(c.visits))\n",
    "        score = exploit + scalar * explore\n",
    "        if score==bestscore:\n",
    "            bestchildren.append(c)\n",
    "        if score>bestscore:\n",
    "            bestchildren = [c]\n",
    "            bestscore = score\n",
    "    return random.choice(bestchildren)\n",
    "\n",
    "\n",
    "def DEFAULTPOLICY(root, state):\n",
    "    '''\n",
    "    play out のこと。ランダムに行動してとりあえず終端状態までたどり着く。\n",
    "    '''\n",
    "    while state.terminal()==False:\n",
    "        state = state.next_state()\n",
    "    return state.reward(root), state\n",
    "\n",
    "\n",
    "def BACKUP(node, reward):\n",
    "    '''\n",
    "    node からルートノードへ遡りながら、途中のノードの訪問回数と報酬を加算していく。\n",
    "    '''\n",
    "    discount = 1.\n",
    "    while node!=None:\n",
    "        node.visits += 1\n",
    "        node.reward += reward\n",
    "        reward = - discount * reward # ２人対戦ゲームの場合、1つ上のノードは対戦相手の状態を持っているので、報酬は負。\n",
    "        node = node.parent\n",
    "    return"
   ]
  },
  {
   "cell_type": "code",
   "execution_count": 6,
   "metadata": {},
   "outputs": [],
   "source": [
    "def show_state(state):\n",
    "    board = np.zeros((nb_mesh,nb_mesh))\n",
    "    board += state[:,:,0]\n",
    "    board -= state[:,:,1]\n",
    "    plt.imshow(board, 'RdBu_r')\n",
    "    plt.clim(-1,1)\n",
    "\n",
    "    ax = plt.gca()\n",
    "    ax.set_xticks(np.arange(0, nb_mesh, 1))\n",
    "    ax.set_yticks(np.arange(0, nb_mesh, 1))\n",
    "    ax.set_xticks(np.arange(-.5, nb_mesh+.5, 1), minor=True)\n",
    "    ax.set_yticks(np.arange(-.5, nb_mesh+.5, 1), minor=True)\n",
    "    ax.grid(which='minor', color='w', linestyle='-', linewidth=2)\n",
    "    plt.tick_params(labelbottom=False, labelleft=False)"
   ]
  },
  {
   "cell_type": "code",
   "execution_count": 7,
   "metadata": {
    "scrolled": false
   },
   "outputs": [
    {
     "name": "stdout",
     "output_type": "stream",
     "text": [
      "[-1.  -0.5 -1.  -1.  -2.  -1.   0.  -2.  -0.5 -1.  -1.  -1.  -1.  -1.\n",
      " -1.  -1.5 -1.  -2.  -1.  -2.  -1.   0.  -2.  -2.  -1. ] [4, 7, 3, 3, 3, 3, 7, 3, 6, 3, 4, 3, 3, 3, 5, 3, 4, 3, 5, 3, 4, 8, 3, 3, 4]\n",
      "[-1.  -1.  -1.5  0.  -1.   0.5 -0.5 -0.5 -1.  -1.  -1.  -1.  -1.  -1.\n",
      "  0.  -1.  -1.5 -1.  -1.  -2.  -0.5 -1.  -1.  -1. ] [3, 3, 4, 6, 3, 7, 6, 5, 3, 6, 3, 4, 3, 3, 6, 6, 5, 3, 3, 3, 6, 3, 3, 3]\n",
      "[-1.  -1.5 -2.  -2.  -1.  -1.5 -1.  -1.  -1.5 -1.  -2.  -2.  -1.5 -2.\n",
      " -0.5 -2.  -1.  -2.   0.  -1.  -1.  -1.  -1. ] [4, 4, 3, 4, 4, 5, 4, 5, 3, 6, 4, 3, 5, 4, 6, 4, 4, 3, 7, 4, 5, 4, 5]\n",
      "[-0.5 -1.5 -2.  -1.   0.  -1.  -2.  -1.  -1.  -1.  -2.  -1.  -1.5 -1.\n",
      " -1.  -1.5 -2.  -1.5 -1.  -1.  -2.  -1. ] [6, 4, 5, 4, 7, 5, 4, 4, 5, 4, 3, 5, 5, 5, 5, 5, 4, 4, 4, 4, 4, 4]\n",
      "[-1.5 -2.  -1.  -1.5 -2.  -1.5 -1.  -1.  -2.  -2.  -2.  -1.5 -2.  -1.5\n",
      " -1.  -1.  -1.5 -2.  -2.  -1.5 -0.5] [4, 5, 6, 3, 6, 3, 6, 5, 4, 4, 4, 7, 4, 5, 5, 5, 4, 3, 5, 3, 9]\n",
      "[-2.  -1.5  0.  -2.  -1.  -2.  -1.  -1.  -2.  -1.  -2.  -2.   0.  -2.\n",
      " -2.  -1.  -1.  -2.  -1.5 -2. ] [5, 4, 8, 4, 5, 3, 5, 7, 4, 7, 4, 3, 8, 5, 4, 5, 5, 3, 5, 6]\n",
      "[-1.5 -2.  -1.5 -1.5 -2.  -1.  -1.  -1.  -2.  -1.5 -2.  -2.  -1.5 -2.\n",
      " -2.  -1.5 -2.  -2.  -2. ] [6, 5, 5, 6, 4, 6, 5, 8, 5, 6, 4, 4, 5, 3, 6, 6, 6, 6, 4]\n",
      "[-2.  -2.  -1.  -1.5 -2.  -2.  -1.5 -1.5 -2.  -1.  -1.  -1.  -1.  -2.\n",
      " -2.5 -2.  -1.5 -1.5] [6, 4, 9, 5, 6, 5, 4, 5, 4, 7, 9, 6, 6, 5, 4, 3, 6, 6]\n",
      "[-2.  -1.  -2.  -2.  -2.  -2.  -1.5 -2.  -2.5 -1.5 -2.5 -1.5 -1.5 -2.\n",
      " -1.  -2.5 -2. ] [6, 8, 5, 5, 7, 5, 5, 6, 4, 8, 5, 5, 5, 8, 8, 4, 6]\n",
      "[-2.5 -2.  -2.5 -2.  -2.  -2.  -1.5 -2.5 -2.5 -1.5 -2.  -2.  -2.  -3.\n",
      " -2.  -2.5] [6, 5, 5, 3, 5, 8, 9, 6, 6, 8, 5, 5, 9, 5, 11, 4]\n",
      "[-2.  -1.5 -2.5 -1.5 -2.5 -2.5 -3.  -2.5 -1.5 -2.  -2.  -2.  -2.  -2.5\n",
      " -2. ] [5, 9, 6, 11, 5, 4, 4, 7, 11, 6, 5, 5, 9, 7, 6]\n",
      "[-2.  -3.  -2.5 -2.  -2.5 -2.  -2.  -3.  -2.5 -2.  -3.  -2.5 -3.  -3. ] [8, 8, 5, 10, 4, 8, 11, 8, 10, 8, 6, 6, 4, 4]\n",
      "[ 0.  -1.   0.  66.   0.  -1.  -0.5 -0.5 -1.  -1.  -1.5  0.   0.5] [3, 2, 3, 66, 3, 3, 2, 3, 3, 2, 3, 3, 4]\n"
     ]
    },
    {
     "data": {
      "image/png": "[encoded data removed]",
      "text/plain": [
       "<matplotlib.figure.Figure at 0x106193f98>"
      ]
     },
     "metadata": {},
     "output_type": "display_data"
    },
    {
     "data": {
      "image/png": "[encoded data removed]",
      "text/plain": [
       "<matplotlib.figure.Figure at 0x1061e4b38>"
      ]
     },
     "metadata": {},
     "output_type": "display_data"
    },
    {
     "data": {
      "image/png": "[encoded data removed]",
      "text/plain": [
       "<matplotlib.figure.Figure at 0x106227f60>"
      ]
     },
     "metadata": {},
     "output_type": "display_data"
    },
    {
     "data": {
      "image/png": "[encoded data removed]",
      "text/plain": [
       "<matplotlib.figure.Figure at 0x106258780>"
      ]
     },
     "metadata": {},
     "output_type": "display_data"
    },
    {
     "data": {
      "image/png": "[encoded data removed]",
      "text/plain": [
       "<matplotlib.figure.Figure at 0x10629aef0>"
      ]
     },
     "metadata": {},
     "output_type": "display_data"
    },
    {
     "data": {
      "image/png": "[encoded data removed]",
      "text/plain": [
       "<matplotlib.figure.Figure at 0x10629a390>"
      ]
     },
     "metadata": {},
     "output_type": "display_data"
    },
    {
     "data": {
      "image/png": "[encoded data removed]",
      "text/plain": [
       "<matplotlib.figure.Figure at 0x10630ae80>"
      ]
     },
     "metadata": {},
     "output_type": "display_data"
    },
    {
     "data": {
      "image/png": "[encoded data removed]",
      "text/plain": [
       "<matplotlib.figure.Figure at 0x106351550>"
      ]
     },
     "metadata": {},
     "output_type": "display_data"
    },
    {
     "data": {
      "image/png": "[encoded data removed]",
      "text/plain": [
       "<matplotlib.figure.Figure at 0x106373048>"
      ]
     },
     "metadata": {},
     "output_type": "display_data"
    },
    {
     "data": {
      "image/png": "[encoded data removed]",
      "text/plain": [
       "<matplotlib.figure.Figure at 0x10639d940>"
      ]
     },
     "metadata": {},
     "output_type": "display_data"
    },
    {
     "data": {
      "image/png": "[encoded data removed]",
      "text/plain": [
       "<matplotlib.figure.Figure at 0x1063e4a20>"
      ]
     },
     "metadata": {},
     "output_type": "display_data"
    },
    {
     "data": {
      "image/png": "[encoded data removed]",
      "text/plain": [
       "<matplotlib.figure.Figure at 0x106422fd0>"
      ]
     },
     "metadata": {},
     "output_type": "display_data"
    },
    {
     "data": {
      "image/png": "[encoded data removed]",
      "text/plain": [
       "<matplotlib.figure.Figure at 0x10641ddd8>"
      ]
     },
     "metadata": {},
     "output_type": "display_data"
    },
    {
     "data": {
      "image/png": "[encoded data removed]",
      "text/plain": [
       "<matplotlib.figure.Figure at 0x10646c5f8>"
      ]
     },
     "metadata": {},
     "output_type": "display_data"
    },
    {
     "data": {
      "image/png": "[encoded data removed]",
      "text/plain": [
       "<matplotlib.figure.Figure at 0x1064c3ba8>"
      ]
     },
     "metadata": {},
     "output_type": "display_data"
    }
   ],
   "source": [
    "# 状態の初期化\n",
    "initial_state_array = np.zeros((nb_mesh,nb_mesh,3))\n",
    "initial_state_array[:,:,-1] = np.random.randint(0,2) # ランダムに先手を決める。\n",
    "current_state = State(initial_state_array)\n",
    "\n",
    "#plt.figure(figsize=(5,4*nb_mesh*nb_mesh//2))\n",
    "\n",
    "previous_reward = None\n",
    "\n",
    "foo = []\n",
    "try:\n",
    "    for nb_move in range(nb_mesh*nb_mesh):\n",
    "\n",
    "        # ルートノード　＝　現在の盤面とする。\n",
    "        root_state = current_state\n",
    "        root = Node(root_state)\n",
    "\n",
    "#        plt.subplot(nb_mesh*nb_mesh//2+1,2,nb_move+1)\n",
    "\n",
    "        plt.figure(figsize=(5,5))\n",
    "        show_state(root_state.state_array)\n",
    "        foo.append(root_state.state_array)\n",
    "        if previous_reward is not None:\n",
    "            plt.title(previous_reward)\n",
    "\n",
    "        if judge_game(root_state.state_array) is not None:\n",
    "            raise Exception\n",
    "            \n",
    "        # モンテカルロ木探索\n",
    "        UCTSEARCH(budget, root)\n",
    "\n",
    "        #　それぞれの子ノードが得た報酬のリスト\n",
    "        children_rewards = np.array([child.reward for child in root.children])\n",
    "        previous_reward = children_rewards.max()\n",
    "        print(children_rewards,[child.visits for child in root.children])\n",
    "\n",
    "        # 最も得られた報酬が高かった子ノードへ遷移する。\n",
    "        next_state = root.children[children_rewards.argmax()].state\n",
    "#        next_state = root.children[(np.array(children_rewards)/np.array([child.visits for child in root.children])).argmax()].state\n",
    "        current_state = next_state\n",
    "        \n",
    "except Exception:\n",
    "    pass\n",
    "\n",
    "#plt.subplot(nb_mesh*nb_mesh//2+1,2,nb_move+2)\n",
    "plt.figure(figsize=(5,5))\n",
    "show_state(current_state.state_array)"
   ]
  },
  {
   "cell_type": "code",
   "execution_count": 8,
   "metadata": {},
   "outputs": [
    {
     "name": "stdout",
     "output_type": "stream",
     "text": [
      "None\n"
     ]
    },
    {
     "data": {
      "image/png": "[encoded data removed]",
      "text/plain": [
       "<matplotlib.figure.Figure at 0x106170ac8>"
      ]
     },
     "metadata": {},
     "output_type": "display_data"
    }
   ],
   "source": [
    "import copy\n",
    "\n",
    "p = copy.deepcopy(foo[4])\n",
    "p[1,2,0] = 1\n",
    "p[:,:,-1] = 1-p[:,:,-1]\n",
    "show_state(p)\n",
    "plt.tick_params(labelbottom=False,labelleft=False)\n",
    "print(judge_game(p))"
   ]
  },
  {
   "cell_type": "code",
   "execution_count": null,
   "metadata": {},
   "outputs": [],
   "source": []
  }
 ],
 "metadata": {
  "kernelspec": {
   "display_name": "Python [conda env:dl35]",
   "language": "python",
   "name": "conda-env-dl35-py"
  },
  "language_info": {
   "codemirror_mode": {
    "name": "ipython",
    "version": 3
   },
   "file_extension": ".py",
   "mimetype": "text/x-python",
   "name": "python",
   "nbconvert_exporter": "python",
   "pygments_lexer": "ipython3",
   "version": "3.5.4"
  }
 },
 "nbformat": 4,
 "nbformat_minor": 2
}
